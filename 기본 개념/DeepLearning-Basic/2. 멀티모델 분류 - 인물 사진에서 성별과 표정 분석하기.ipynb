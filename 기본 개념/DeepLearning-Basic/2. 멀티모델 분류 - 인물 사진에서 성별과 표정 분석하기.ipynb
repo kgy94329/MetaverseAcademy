{
 "cells": [
  {
   "cell_type": "code",
   "execution_count": 1,
   "metadata": {
    "executionInfo": {
     "elapsed": 2810,
     "status": "ok",
     "timestamp": 1608959436897,
     "user": {
      "displayName": "Son Kunyoung",
      "photoUrl": "",
      "userId": "06678997333956014431"
     },
     "user_tz": -540
    },
    "id": "mUteMBoWzfXn"
   },
   "outputs": [],
   "source": [
    "import tensorflow as tf\n",
    "from keras.layers import Dense\n",
    "from keras.models import Sequential\n",
    "\n",
    "from tensorflow import keras\n",
    "import pandas as pd\n",
    "import numpy as np\n",
    "import matplotlib.pyplot as plt\n",
    "import seaborn as sns\n",
    "import warnings \n",
    "from IPython.display import Image\n",
    "\n",
    "warnings.filterwarnings('ignore')\n",
    "%matplotlib inline\n",
    "\n",
    "SEED = 34\n",
    "\n"
   ]
  },
  {
   "cell_type": "code",
   "execution_count": 2,
   "metadata": {
    "executionInfo": {
     "elapsed": 2333,
     "status": "ok",
     "timestamp": 1608962210626,
     "user": {
      "displayName": "Son Kunyoung",
      "photoUrl": "",
      "userId": "06678997333956014431"
     },
     "user_tz": -540
    },
    "id": "il6cKcv4zfXr"
   },
   "outputs": [],
   "source": [
    "# 데이터를 train에서 사람 이미지 한장과 label 정보 한개를 불러오는 코드\n",
    "# (x, y로 변수 대입)\n",
    "celeba_small = np.load('data_celeba.npz')\n",
    "x,y=celeba_small['X_data'],celeba_small['Y_data']"
   ]
  },
  {
   "cell_type": "code",
   "execution_count": 3,
   "metadata": {
    "colab": {
     "base_uri": "https://localhost:8080/"
    },
    "executionInfo": {
     "elapsed": 665,
     "status": "ok",
     "timestamp": 1608962192296,
     "user": {
      "displayName": "Son Kunyoung",
      "photoUrl": "",
      "userId": "06678997333956014431"
     },
     "user_tz": -540
    },
    "id": "VID5ngH3zfXr",
    "outputId": "1d4a4f11-ae1b-4eba-8755-b27adc33b79b"
   },
   "outputs": [
    {
     "data": {
      "text/plain": [
       "((2000, 72, 59, 3), (2000, 2))"
      ]
     },
     "execution_count": 3,
     "metadata": {},
     "output_type": "execute_result"
    }
   ],
   "source": [
    "x.shape, y.shape"
   ]
  },
  {
   "cell_type": "code",
   "execution_count": 4,
   "metadata": {
    "colab": {
     "base_uri": "https://localhost:8080/",
     "height": 285
    },
    "executionInfo": {
     "elapsed": 717,
     "status": "ok",
     "timestamp": 1608962388604,
     "user": {
      "displayName": "Son Kunyoung",
      "photoUrl": "",
      "userId": "06678997333956014431"
     },
     "user_tz": -540
    },
    "id": "zCD8YxAFzfXs",
    "outputId": "79947569-2b92-4552-cc46-3003fd775f9b"
   },
   "outputs": [
    {
     "data": {
      "image/png": "[encoded data removed]",
      "text/plain": [
       "<Figure size 432x288 with 2 Axes>"
      ]
     },
     "metadata": {
      "needs_background": "light"
     },
     "output_type": "display_data"
    },
    {
     "name": "stdout",
     "output_type": "stream",
     "text": [
      "[[0 0]\n",
      " [1 1]\n",
      " [1 0]\n",
      " ...\n",
      " [0 1]\n",
      " [0 1]\n",
      " [0 1]]\n"
     ]
    }
   ],
   "source": [
    "plt.imshow(next(iter(x)))\n",
    "plt.colorbar()\n",
    "plt.show()\n",
    "print(y)"
   ]
  },
  {
   "cell_type": "code",
   "execution_count": 5,
   "metadata": {
    "executionInfo": {
     "elapsed": 2289,
     "status": "ok",
     "timestamp": 1608962307889,
     "user": {
      "displayName": "Son Kunyoung",
      "photoUrl": "",
      "userId": "06678997333956014431"
     },
     "user_tz": -540
    },
    "id": "UbqJxnEKzfXs"
   },
   "outputs": [
    {
     "name": "stdout",
     "output_type": "stream",
     "text": [
      "(1400, 72, 59, 3) 1400\n",
      "(600, 72, 59, 3) 600\n"
     ]
    }
   ],
   "source": [
    "# celeba_small.npz에서 train_images, test_images, train_labels, test_labels를 np array로 로드\n",
    "\n",
    "from sklearn.model_selection import train_test_split\n",
    "\n",
    "train_images, test_images, train_labels, test_labels = train_test_split(x,y, \n",
    "                                                  test_size = 0.3, random_state = 777)\n",
    "\n",
    "print(train_images.shape, len(train_labels))\n",
    "print(test_images.shape, len(test_labels))\n"
   ]
  },
  {
   "cell_type": "code",
   "execution_count": 6,
   "metadata": {
    "colab": {
     "base_uri": "https://localhost:8080/"
    },
    "executionInfo": {
     "elapsed": 690,
     "status": "ok",
     "timestamp": 1608962359549,
     "user": {
      "displayName": "Son Kunyoung",
      "photoUrl": "",
      "userId": "06678997333956014431"
     },
     "user_tz": -540
    },
    "id": "gzVkaWY_zfXs",
    "outputId": "554982fb-e3f2-4b2e-8374-39e5c3ff3659"
   },
   "outputs": [
    {
     "data": {
      "text/plain": [
       "array([0.92941176, 0.9254902 , 0.94901961, 0.92941176, 0.9254902 ,\n",
       "       0.94901961, 0.92941176, 0.9254902 , 0.94901961, 0.92941176])"
      ]
     },
     "execution_count": 6,
     "metadata": {},
     "output_type": "execute_result"
    }
   ],
   "source": [
    "# 하나의 이미지에 대한 모든 0이 아닌 값을 출력하는 코드\n",
    "train_images[train_images != 0][:10]"
   ]
  },
  {
   "cell_type": "code",
   "execution_count": 7,
   "metadata": {
    "colab": {
     "base_uri": "https://localhost:8080/"
    },
    "executionInfo": {
     "elapsed": 629,
     "status": "ok",
     "timestamp": 1608962424727,
     "user": {
      "displayName": "Son Kunyoung",
      "photoUrl": "",
      "userId": "06678997333956014431"
     },
     "user_tz": -540
    },
    "id": "U0CsxiLqzfXt",
    "outputId": "d4a65918-0e51-45cb-b0c8-52c81c2b3df7"
   },
   "outputs": [
    {
     "data": {
      "text/plain": [
       "dtype('float64')"
      ]
     },
     "execution_count": 7,
     "metadata": {},
     "output_type": "execute_result"
    }
   ],
   "source": [
    "# dtype을 이용하여 이미지의 np array type을 확인\n",
    "train_images.dtype"
   ]
  },
  {
   "cell_type": "code",
   "execution_count": 8,
   "metadata": {
    "colab": {
     "base_uri": "https://localhost:8080/"
    },
    "executionInfo": {
     "elapsed": 637,
     "status": "ok",
     "timestamp": 1608962915398,
     "user": {
      "displayName": "Son Kunyoung",
      "photoUrl": "",
      "userId": "06678997333956014431"
     },
     "user_tz": -540
    },
    "id": "vmU5DLMWzfXt",
    "outputId": "4efd058f-30e6-4688-9783-9219c019af47"
   },
   "outputs": [
    {
     "name": "stdout",
     "output_type": "stream",
     "text": [
      "(1400, 72, 59, 3) (600, 72, 59, 3)\n",
      "float64 float64\n",
      "(1400, 2) (600, 2)\n",
      "int8 int8\n",
      "[0.92941176 0.9254902  0.94901961 0.92941176 0.9254902  0.94901961\n",
      " 0.92941176 0.9254902  0.94901961 0.92941176]\n",
      "[0.07058824 0.03529412 0.02356265 0.09019608 0.0628448  0.05108009\n",
      " 0.06616816 0.05456962 0.04297109 0.04313725]\n"
     ]
    }
   ],
   "source": [
    "# 이미지 데이터 범위확인\n",
    "print(train_images.shape, test_images.shape)\n",
    "print(train_images.dtype, test_images.dtype)\n",
    "\n",
    "print(train_labels.shape, test_labels.shape)\n",
    "print(train_labels.dtype, test_labels.dtype)\n",
    "\n",
    "print(train_images[train_images != 0][:10])\n",
    "print(test_images[test_images != 0][:10])"
   ]
  },
  {
   "cell_type": "code",
   "execution_count": 9,
   "metadata": {
    "colab": {
     "base_uri": "https://localhost:8080/"
    },
    "executionInfo": {
     "elapsed": 646,
     "status": "ok",
     "timestamp": 1608962987928,
     "user": {
      "displayName": "Son Kunyoung",
      "photoUrl": "",
      "userId": "06678997333956014431"
     },
     "user_tz": -540
    },
    "id": "ZYyRj1TkzfXu",
    "outputId": "887eef75-622c-45e9-b3d9-44564353fb17"
   },
   "outputs": [
    {
     "name": "stdout",
     "output_type": "stream",
     "text": [
      "0.0 1.0\n",
      "0 1\n"
     ]
    }
   ],
   "source": [
    "# train/test 전체 데이터에서 각 images, labels의 min, max를 출력\n",
    "print(train_images.min(), train_images.max())\n",
    "print(train_labels.min(), train_labels.max())"
   ]
  },
  {
   "cell_type": "code",
   "execution_count": 10,
   "metadata": {
    "colab": {
     "base_uri": "https://localhost:8080/"
    },
    "executionInfo": {
     "elapsed": 839,
     "status": "ok",
     "timestamp": 1608963391830,
     "user": {
      "displayName": "Son Kunyoung",
      "photoUrl": "",
      "userId": "06678997333956014431"
     },
     "user_tz": -540
    },
    "id": "wuSOXHEEzfXu",
    "outputId": "cca278eb-e7c0-4da0-ddac-b6d094f63845"
   },
   "outputs": [
    {
     "name": "stdout",
     "output_type": "stream",
     "text": [
      "(1400, 1) (1400, 1)\n",
      "[0] [0] [0 0]\n"
     ]
    }
   ],
   "source": [
    "# (배치, 2)의 labels shape을 (배치, 1)의 shape의 2개의 array로 분리하는 코드\n",
    "from keras.utils import to_categorical\n",
    "train_male_labels, train_smile_labels = np.split(train_labels, 2, axis=1)\n",
    "test_male_labels, test_smile_labels = np.split(test_labels, 2, axis=1)\n",
    "\n",
    "print(train_male_labels.shape, train_smile_labels.shape)\n",
    "print(train_male_labels[0], train_smile_labels[0], train_labels[0])\n",
    "\n",
    "#  (배치, 2) ->  (배치, 1),  (배치, 1) -> (배치, 2),  (배치, 2) "
   ]
  },
  {
   "cell_type": "code",
   "execution_count": 11,
   "metadata": {
    "executionInfo": {
     "elapsed": 676,
     "status": "ok",
     "timestamp": 1608963502680,
     "user": {
      "displayName": "Son Kunyoung",
      "photoUrl": "",
      "userId": "06678997333956014431"
     },
     "user_tz": -540
    },
    "id": "Bb7HhoAhsZEO"
   },
   "outputs": [],
   "source": [
    "train_male_labels = to_categorical(train_male_labels)\n",
    "train_smile_labels = to_categorical(train_smile_labels)\n",
    "test_male_labels = to_categorical(test_male_labels)\n",
    "test_smile_labels = to_categorical(test_smile_labels)"
   ]
  },
  {
   "cell_type": "code",
   "execution_count": 12,
   "metadata": {
    "colab": {
     "base_uri": "https://localhost:8080/"
    },
    "executionInfo": {
     "elapsed": 922,
     "status": "ok",
     "timestamp": 1608963532852,
     "user": {
      "displayName": "Son Kunyoung",
      "photoUrl": "",
      "userId": "06678997333956014431"
     },
     "user_tz": -540
    },
    "id": "lXEJMUMxsrq-",
    "outputId": "6b9cb26a-8d8e-4b43-a845-dfb5cbed3183"
   },
   "outputs": [
    {
     "name": "stdout",
     "output_type": "stream",
     "text": [
      "(1400, 2) (1400, 2)\n",
      "(600, 2) (600, 2)\n"
     ]
    }
   ],
   "source": [
    "print(train_male_labels.shape, train_smile_labels.shape)\n",
    "print(test_male_labels.shape, test_smile_labels.shape)"
   ]
  },
  {
   "cell_type": "code",
   "execution_count": 13,
   "metadata": {
    "colab": {
     "base_uri": "https://localhost:8080/"
    },
    "executionInfo": {
     "elapsed": 643,
     "status": "ok",
     "timestamp": 1608963770815,
     "user": {
      "displayName": "Son Kunyoung",
      "photoUrl": "",
      "userId": "06678997333956014431"
     },
     "user_tz": -540
    },
    "id": "b_fdgA-WzfXv",
    "outputId": "69a97284-a056-43cb-bd3a-0b1ec1f055ae"
   },
   "outputs": [
    {
     "name": "stdout",
     "output_type": "stream",
     "text": [
      "(1400, 4) (600, 4)\n"
     ]
    }
   ],
   "source": [
    "# (배치, 2), (배치, 2)의 labels를 (배치, 4)로 합치는 코드\n",
    "# (배치, 남성여부, 웃음여부) => (배치, 남성여부), (배치, 웃음여부) => (배치, 여자여부, 남자여부), (배치, 안웃음여부, 웃음여부) => (배치, 여자여부, 남자여부, 안웃음여부, 웃음여부)\n",
    "train_labels2 = np.concatenate([train_male_labels, train_smile_labels], axis = 1)\n",
    "test_labels2 = np.concatenate([test_male_labels, test_smile_labels], axis = 1)\n",
    "print(train_labels2.shape, test_labels2.shape)"
   ]
  },
  {
   "cell_type": "code",
   "execution_count": 14,
   "metadata": {
    "colab": {
     "base_uri": "https://localhost:8080/"
    },
    "executionInfo": {
     "elapsed": 903,
     "status": "ok",
     "timestamp": 1608963944278,
     "user": {
      "displayName": "Son Kunyoung",
      "photoUrl": "",
      "userId": "06678997333956014431"
     },
     "user_tz": -540
    },
    "id": "DNV-8ovuzfXv",
    "outputId": "27671eb0-ccdd-42b2-aeda-57a80ddf4f31"
   },
   "outputs": [
    {
     "data": {
      "text/plain": [
       "(5, 72, 59, 3)"
      ]
     },
     "execution_count": 14,
     "metadata": {},
     "output_type": "execute_result"
    }
   ],
   "source": [
    "# (배치, 세로, 가로, 3)인 train_images에서 (5, 세로, 가로, 3)을 획득하는 코드\n",
    "train_images[:5].shape"
   ]
  },
  {
   "cell_type": "code",
   "execution_count": 15,
   "metadata": {
    "colab": {
     "base_uri": "https://localhost:8080/",
     "height": 218
    },
    "executionInfo": {
     "elapsed": 865,
     "status": "ok",
     "timestamp": 1608964129813,
     "user": {
      "displayName": "Son Kunyoung",
      "photoUrl": "",
      "userId": "06678997333956014431"
     },
     "user_tz": -540
    },
    "id": "SpajpXewzfXv",
    "outputId": "7b2bc75a-db4a-4d45-f11b-85df7c3da828"
   },
   "outputs": [
    {
     "data": {
      "image/png": "[encoded data removed]",
      "text/plain": [
       "<Figure size 432x288 with 1 Axes>"
      ]
     },
     "metadata": {
      "needs_background": "light"
     },
     "output_type": "display_data"
    },
    {
     "name": "stdout",
     "output_type": "stream",
     "text": [
      "[[1. 0. 1. 0.]\n",
      " [1. 0. 1. 0.]\n",
      " [0. 1. 1. 0.]\n",
      " [0. 1. 0. 1.]\n",
      " [1. 0. 1. 0.]]\n"
     ]
    }
   ],
   "source": [
    "# np.hstack은 height 방향의 배열을 풀어서 width 방향으로 연결해줍니다.\n",
    "# 해당 기능을 쓰면 (height, image_height, image_width, color)의 shape을 (image_height, image_width * height, color)으로 바꿔 줄 수 있습니다.\n",
    "\n",
    "plt.imshow(np.hstack(train_images[:5]))\n",
    "plt.show()\n",
    "print(train_labels2[:5])"
   ]
  },
  {
   "cell_type": "code",
   "execution_count": 16,
   "metadata": {
    "colab": {
     "base_uri": "https://localhost:8080/",
     "height": 293
    },
    "executionInfo": {
     "elapsed": 621,
     "status": "ok",
     "timestamp": 1608964748234,
     "user": {
      "displayName": "Son Kunyoung",
      "photoUrl": "",
      "userId": "06678997333956014431"
     },
     "user_tz": -540
    },
    "id": "VDnSgzzKzfXx",
    "outputId": "6f5bdc06-3c17-4555-8bde-9fe49a52a012"
   },
   "outputs": [
    {
     "data": {
      "text/plain": [
       "<AxesSubplot:xlabel='gender'>"
      ]
     },
     "execution_count": 16,
     "metadata": {},
     "output_type": "execute_result"
    },
    {
     "data": {
      "image/png": "[encoded data removed]",
      "text/plain": [
       "<Figure size 432x288 with 1 Axes>"
      ]
     },
     "metadata": {
      "needs_background": "light"
     },
     "output_type": "display_data"
    }
   ],
   "source": [
    "# pandas를 smile, male이 각각 몇개 있는지 plt를 통하여 출력하는 코드\n",
    "df = pd.DataFrame(train_labels, columns = ['gender', 'smile'])\n",
    "df.groupby(['gender', 'smile']).size().unstack().plot(kind='bar', stacked=True)"
   ]
  },
  {
   "cell_type": "markdown",
   "metadata": {
    "id": "eNkdDgr0zfX1"
   },
   "source": [
    "##  멀티 아웃풋 모델링"
   ]
  },
  {
   "cell_type": "code",
   "execution_count": 27,
   "metadata": {
    "executionInfo": {
     "elapsed": 675,
     "status": "ok",
     "timestamp": 1608968991042,
     "user": {
      "displayName": "Son Kunyoung",
      "photoUrl": "",
      "userId": "06678997333956014431"
     },
     "user_tz": -540
    },
    "id": "9wZKFa_QzfX1"
   },
   "outputs": [],
   "source": [
    "# input (배치, 72, 59, 3), output (배치, 2)을 처리할 수 있는 모양의 모델을 작성하세요.\n",
    "from keras.models import Model\n",
    "from keras.layers import Conv2D, MaxPool2D, Input, Dense, Flatten, Concatenate\n",
    "\n",
    "def multi_model():\n",
    "  inputs = Input((72, 59, 3))\n",
    "\n",
    "  l1 = Conv2D(32, 3, activation='relu')(inputs)\n",
    "  l2 = MaxPool2D(2)(l1)\n",
    "  l3 = Conv2D(64, 3, activation='relu')(l2)\n",
    "  l4 = MaxPool2D(2)(l3)\n",
    "  l5 = Conv2D(64, 3, activation='relu')(l4)\n",
    "  l6 = MaxPool2D(2)(l5)\n",
    "  \n",
    "  l7 = Flatten()(l6)\n",
    "  latent_vector = Dense(64, activation='relu')(l7)\n",
    "\n",
    "  gender_outputs = Dense(2, activation='softmax')(latent_vector)\n",
    "  smile_outputs = Dense(2, activation='softmax')(latent_vector)\n",
    "\n",
    "  outputs = Concatenate(axis=1)([gender_outputs, smile_outputs])\n",
    "  model = Model(inputs, outputs)\n",
    "  #model = Model(inputs, [gender_outputs, smile_outputs])\n",
    "  return model\n",
    "\n",
    "def multi_model2():\n",
    "  inputs = Input((72, 59, 3))\n",
    "\n",
    "  l1 = Conv2D(32, 3, activation='relu')(inputs)\n",
    "  l2 = MaxPool2D(2)(l1)\n",
    "  l3 = Conv2D(64, 3, activation='relu')(l2)\n",
    "  l4 = MaxPool2D(2)(l3)\n",
    "  l5 = Conv2D(64, 3, activation='relu')(l4)\n",
    "  l6 = MaxPool2D(2)(l5)\n",
    "  \n",
    "  l7 = Flatten()(l6)\n",
    "  latent_vector = Dense(64, activation='relu')(l7)\n",
    "\n",
    "  gender_outputs = Dense(2, activation='softmax')(latent_vector)\n",
    "  smile_outputs = Dense(2, activation='softmax')(latent_vector)\n",
    "\n",
    "  outputs = Concatenate(axis=1)([gender_outputs, smile_outputs])\n",
    "  #model = Model(inputs, outputs)\n",
    "  model = Model(inputs, [gender_outputs, smile_outputs])\n",
    "  return model"
   ]
  },
  {
   "cell_type": "code",
   "execution_count": 40,
   "metadata": {
    "colab": {
     "base_uri": "https://localhost:8080/"
    },
    "executionInfo": {
     "elapsed": 570,
     "status": "ok",
     "timestamp": 1608968016194,
     "user": {
      "displayName": "Son Kunyoung",
      "photoUrl": "",
      "userId": "06678997333956014431"
     },
     "user_tz": -540
    },
    "id": "6bIK0vDh9zBy",
    "outputId": "9fdb4ee3-ea95-4627-f0ee-450861d8c451"
   },
   "outputs": [
    {
     "name": "stdout",
     "output_type": "stream",
     "text": [
      "Model: \"model_3\"\n",
      "__________________________________________________________________________________________________\n",
      " Layer (type)                   Output Shape         Param #     Connected to                     \n",
      "==================================================================================================\n",
      " input_4 (InputLayer)           [(None, 72, 59, 3)]  0           []                               \n",
      "                                                                                                  \n",
      " conv2d_9 (Conv2D)              (None, 70, 57, 32)   896         ['input_4[0][0]']                \n",
      "                                                                                                  \n",
      " max_pooling2d_9 (MaxPooling2D)  (None, 35, 28, 32)  0           ['conv2d_9[0][0]']               \n",
      "                                                                                                  \n",
      " conv2d_10 (Conv2D)             (None, 33, 26, 64)   18496       ['max_pooling2d_9[0][0]']        \n",
      "                                                                                                  \n",
      " max_pooling2d_10 (MaxPooling2D  (None, 16, 13, 64)  0           ['conv2d_10[0][0]']              \n",
      " )                                                                                                \n",
      "                                                                                                  \n",
      " conv2d_11 (Conv2D)             (None, 14, 11, 64)   36928       ['max_pooling2d_10[0][0]']       \n",
      "                                                                                                  \n",
      " max_pooling2d_11 (MaxPooling2D  (None, 7, 5, 64)    0           ['conv2d_11[0][0]']              \n",
      " )                                                                                                \n",
      "                                                                                                  \n",
      " flatten_3 (Flatten)            (None, 2240)         0           ['max_pooling2d_11[0][0]']       \n",
      "                                                                                                  \n",
      " dense_9 (Dense)                (None, 64)           143424      ['flatten_3[0][0]']              \n",
      "                                                                                                  \n",
      " dense_10 (Dense)               (None, 2)            130         ['dense_9[0][0]']                \n",
      "                                                                                                  \n",
      " dense_11 (Dense)               (None, 2)            130         ['dense_9[0][0]']                \n",
      "                                                                                                  \n",
      " concatenate_3 (Concatenate)    (None, 4)            0           ['dense_10[0][0]',               \n",
      "                                                                  'dense_11[0][0]']               \n",
      "                                                                                                  \n",
      "==================================================================================================\n",
      "Total params: 200,004\n",
      "Trainable params: 200,004\n",
      "Non-trainable params: 0\n",
      "__________________________________________________________________________________________________\n"
     ]
    }
   ],
   "source": [
    "model = multi_model()\n",
    "model.summary()"
   ]
  },
  {
   "cell_type": "code",
   "execution_count": 41,
   "metadata": {
    "executionInfo": {
     "elapsed": 715,
     "status": "ok",
     "timestamp": 1608968119698,
     "user": {
      "displayName": "Son Kunyoung",
      "photoUrl": "",
      "userId": "06678997333956014431"
     },
     "user_tz": -540
    },
    "id": "LkS2fSWl-RFv"
   },
   "outputs": [],
   "source": [
    "model.compile(loss='categorical_crossentropy', optimizer='adam', metrics=['accuracy'])"
   ]
  },
  {
   "cell_type": "code",
   "execution_count": 30,
   "metadata": {},
   "outputs": [
    {
     "name": "stdout",
     "output_type": "stream",
     "text": [
      "Model: \"model_2\"\n",
      "__________________________________________________________________________________________________\n",
      " Layer (type)                   Output Shape         Param #     Connected to                     \n",
      "==================================================================================================\n",
      " input_3 (InputLayer)           [(None, 72, 59, 3)]  0           []                               \n",
      "                                                                                                  \n",
      " conv2d_6 (Conv2D)              (None, 70, 57, 32)   896         ['input_3[0][0]']                \n",
      "                                                                                                  \n",
      " max_pooling2d_6 (MaxPooling2D)  (None, 35, 28, 32)  0           ['conv2d_6[0][0]']               \n",
      "                                                                                                  \n",
      " conv2d_7 (Conv2D)              (None, 33, 26, 64)   18496       ['max_pooling2d_6[0][0]']        \n",
      "                                                                                                  \n",
      " max_pooling2d_7 (MaxPooling2D)  (None, 16, 13, 64)  0           ['conv2d_7[0][0]']               \n",
      "                                                                                                  \n",
      " conv2d_8 (Conv2D)              (None, 14, 11, 64)   36928       ['max_pooling2d_7[0][0]']        \n",
      "                                                                                                  \n",
      " max_pooling2d_8 (MaxPooling2D)  (None, 7, 5, 64)    0           ['conv2d_8[0][0]']               \n",
      "                                                                                                  \n",
      " flatten_2 (Flatten)            (None, 2240)         0           ['max_pooling2d_8[0][0]']        \n",
      "                                                                                                  \n",
      " dense_6 (Dense)                (None, 64)           143424      ['flatten_2[0][0]']              \n",
      "                                                                                                  \n",
      " dense_7 (Dense)                (None, 2)            130         ['dense_6[0][0]']                \n",
      "                                                                                                  \n",
      " dense_8 (Dense)                (None, 2)            130         ['dense_6[0][0]']                \n",
      "                                                                                                  \n",
      "==================================================================================================\n",
      "Total params: 200,004\n",
      "Trainable params: 200,004\n",
      "Non-trainable params: 0\n",
      "__________________________________________________________________________________________________\n"
     ]
    }
   ],
   "source": [
    "model2 = multi_model2()\n",
    "model2.summary()"
   ]
  },
  {
   "cell_type": "code",
   "execution_count": 35,
   "metadata": {},
   "outputs": [],
   "source": [
    "model2.compile(loss='categorical_crossentropy', optimizer='adam', metrics=['accuracy'])"
   ]
  },
  {
   "cell_type": "code",
   "execution_count": 42,
   "metadata": {
    "colab": {
     "base_uri": "https://localhost:8080/"
    },
    "executionInfo": {
     "elapsed": 7469,
     "status": "ok",
     "timestamp": 1608969019134,
     "user": {
      "displayName": "Son Kunyoung",
      "photoUrl": "",
      "userId": "06678997333956014431"
     },
     "user_tz": -540
    },
    "id": "kv4tEjc9zfX3",
    "outputId": "9eaa97ec-3497-4533-9882-5a3e4e4148be"
   },
   "outputs": [
    {
     "name": "stdout",
     "output_type": "stream",
     "text": [
      "Epoch 1/15\n",
      "44/44 [==============================] - 1s 15ms/step - loss: 2.7325 - accuracy: 0.3557 - val_loss: 2.6154 - val_accuracy: 0.5800\n",
      "Epoch 2/15\n",
      "44/44 [==============================] - 0s 7ms/step - loss: 2.5497 - accuracy: 0.5957 - val_loss: 2.5389 - val_accuracy: 0.5350\n",
      "Epoch 3/15\n",
      "44/44 [==============================] - 0s 7ms/step - loss: 2.4255 - accuracy: 0.6207 - val_loss: 2.4142 - val_accuracy: 0.6733\n",
      "Epoch 4/15\n",
      "44/44 [==============================] - 0s 7ms/step - loss: 2.2557 - accuracy: 0.6364 - val_loss: 2.3063 - val_accuracy: 0.6617\n",
      "Epoch 5/15\n",
      "44/44 [==============================] - 0s 6ms/step - loss: 2.1186 - accuracy: 0.6221 - val_loss: 2.2486 - val_accuracy: 0.6150\n",
      "Epoch 6/15\n",
      "44/44 [==============================] - 0s 6ms/step - loss: 1.9960 - accuracy: 0.6243 - val_loss: 2.0926 - val_accuracy: 0.6283\n",
      "Epoch 7/15\n",
      "44/44 [==============================] - 0s 6ms/step - loss: 1.8852 - accuracy: 0.6171 - val_loss: 2.0716 - val_accuracy: 0.6100\n",
      "Epoch 8/15\n",
      "44/44 [==============================] - 0s 6ms/step - loss: 1.8114 - accuracy: 0.6257 - val_loss: 2.0321 - val_accuracy: 0.6350\n",
      "Epoch 9/15\n",
      "44/44 [==============================] - 0s 6ms/step - loss: 1.7203 - accuracy: 0.6486 - val_loss: 2.0401 - val_accuracy: 0.6217\n",
      "Epoch 10/15\n",
      "44/44 [==============================] - 0s 6ms/step - loss: 1.6879 - accuracy: 0.6371 - val_loss: 2.0812 - val_accuracy: 0.6417\n",
      "Epoch 11/15\n",
      "44/44 [==============================] - 0s 6ms/step - loss: 1.6335 - accuracy: 0.6557 - val_loss: 2.0993 - val_accuracy: 0.6400\n",
      "Epoch 12/15\n",
      "44/44 [==============================] - 0s 6ms/step - loss: 1.6077 - accuracy: 0.6479 - val_loss: 2.0578 - val_accuracy: 0.6650\n",
      "Epoch 13/15\n",
      "44/44 [==============================] - 0s 6ms/step - loss: 1.5457 - accuracy: 0.6736 - val_loss: 2.2395 - val_accuracy: 0.6483\n",
      "Epoch 14/15\n",
      "44/44 [==============================] - 0s 7ms/step - loss: 1.5213 - accuracy: 0.6657 - val_loss: 2.2225 - val_accuracy: 0.6400\n",
      "Epoch 15/15\n",
      "44/44 [==============================] - 0s 7ms/step - loss: 1.4986 - accuracy: 0.6664 - val_loss: 2.2805 - val_accuracy: 0.6767\n"
     ]
    }
   ],
   "source": [
    "hist1 = model.fit(train_images, train_labels2, \n",
    "                  validation_data=(test_images, test_labels2), \n",
    "                  epochs=15, verbose=1)"
   ]
  },
  {
   "cell_type": "code",
   "execution_count": 25,
   "metadata": {},
   "outputs": [
    {
     "data": {
      "text/plain": [
       "array([[1., 0., 1., 0.],\n",
       "       [1., 0., 1., 0.],\n",
       "       [0., 1., 1., 0.],\n",
       "       ...,\n",
       "       [0., 1., 1., 0.],\n",
       "       [1., 0., 1., 0.],\n",
       "       [1., 0., 1., 0.]], dtype=float32)"
      ]
     },
     "execution_count": 25,
     "metadata": {},
     "output_type": "execute_result"
    }
   ],
   "source": [
    "np.concatenate([train_male_labels,train_smile_labels], axis=1)"
   ]
  },
  {
   "cell_type": "code",
   "execution_count": 37,
   "metadata": {},
   "outputs": [
    {
     "name": "stdout",
     "output_type": "stream",
     "text": [
      "Epoch 1/15\n",
      "44/44 [==============================] - 1s 13ms/step - loss: 1.3305 - dense_7_loss: 0.6400 - dense_8_loss: 0.6904 - dense_7_accuracy: 0.6179 - dense_8_accuracy: 0.5271 - val_loss: 1.2131 - val_dense_7_loss: 0.5230 - val_dense_8_loss: 0.6900 - val_dense_7_accuracy: 0.7467 - val_dense_8_accuracy: 0.5417\n",
      "Epoch 2/15\n",
      "44/44 [==============================] - 0s 7ms/step - loss: 1.1602 - dense_7_loss: 0.5067 - dense_8_loss: 0.6535 - dense_7_accuracy: 0.7621 - dense_8_accuracy: 0.6007 - val_loss: 1.1949 - val_dense_7_loss: 0.5042 - val_dense_8_loss: 0.6907 - val_dense_7_accuracy: 0.7800 - val_dense_8_accuracy: 0.5317\n",
      "Epoch 3/15\n",
      "44/44 [==============================] - 0s 7ms/step - loss: 1.0473 - dense_7_loss: 0.4403 - dense_8_loss: 0.6070 - dense_7_accuracy: 0.7864 - dense_8_accuracy: 0.6614 - val_loss: 1.0833 - val_dense_7_loss: 0.4732 - val_dense_8_loss: 0.6101 - val_dense_7_accuracy: 0.7650 - val_dense_8_accuracy: 0.6600\n",
      "Epoch 4/15\n",
      "44/44 [==============================] - 0s 7ms/step - loss: 0.8706 - dense_7_loss: 0.3420 - dense_8_loss: 0.5286 - dense_7_accuracy: 0.8479 - dense_8_accuracy: 0.7364 - val_loss: 0.9730 - val_dense_7_loss: 0.4227 - val_dense_8_loss: 0.5503 - val_dense_7_accuracy: 0.8067 - val_dense_8_accuracy: 0.7450\n",
      "Epoch 5/15\n",
      "44/44 [==============================] - 0s 7ms/step - loss: 0.7251 - dense_7_loss: 0.2775 - dense_8_loss: 0.4476 - dense_7_accuracy: 0.8871 - dense_8_accuracy: 0.7821 - val_loss: 0.8931 - val_dense_7_loss: 0.3110 - val_dense_8_loss: 0.5821 - val_dense_7_accuracy: 0.8550 - val_dense_8_accuracy: 0.7283\n",
      "Epoch 6/15\n",
      "44/44 [==============================] - 0s 7ms/step - loss: 0.5959 - dense_7_loss: 0.2136 - dense_8_loss: 0.3823 - dense_7_accuracy: 0.9171 - dense_8_accuracy: 0.8207 - val_loss: 0.7122 - val_dense_7_loss: 0.2648 - val_dense_8_loss: 0.4474 - val_dense_7_accuracy: 0.8850 - val_dense_8_accuracy: 0.7817\n",
      "Epoch 7/15\n",
      "44/44 [==============================] - 0s 7ms/step - loss: 0.4903 - dense_7_loss: 0.1932 - dense_8_loss: 0.2970 - dense_7_accuracy: 0.9171 - dense_8_accuracy: 0.8786 - val_loss: 0.7492 - val_dense_7_loss: 0.3141 - val_dense_8_loss: 0.4351 - val_dense_7_accuracy: 0.8700 - val_dense_8_accuracy: 0.8033\n",
      "Epoch 8/15\n",
      "44/44 [==============================] - 0s 7ms/step - loss: 0.3981 - dense_7_loss: 0.1469 - dense_8_loss: 0.2513 - dense_7_accuracy: 0.9421 - dense_8_accuracy: 0.8879 - val_loss: 0.7704 - val_dense_7_loss: 0.3108 - val_dense_8_loss: 0.4596 - val_dense_7_accuracy: 0.8783 - val_dense_8_accuracy: 0.8133\n",
      "Epoch 9/15\n",
      "44/44 [==============================] - 0s 7ms/step - loss: 0.3277 - dense_7_loss: 0.1089 - dense_8_loss: 0.2188 - dense_7_accuracy: 0.9614 - dense_8_accuracy: 0.9114 - val_loss: 0.6398 - val_dense_7_loss: 0.2165 - val_dense_8_loss: 0.4234 - val_dense_7_accuracy: 0.9083 - val_dense_8_accuracy: 0.8317\n",
      "Epoch 10/15\n",
      "44/44 [==============================] - 0s 7ms/step - loss: 0.2587 - dense_7_loss: 0.0840 - dense_8_loss: 0.1746 - dense_7_accuracy: 0.9743 - dense_8_accuracy: 0.9271 - val_loss: 0.7498 - val_dense_7_loss: 0.2302 - val_dense_8_loss: 0.5196 - val_dense_7_accuracy: 0.9083 - val_dense_8_accuracy: 0.8250\n",
      "Epoch 11/15\n",
      "44/44 [==============================] - 0s 7ms/step - loss: 0.2531 - dense_7_loss: 0.1024 - dense_8_loss: 0.1507 - dense_7_accuracy: 0.9600 - dense_8_accuracy: 0.9414 - val_loss: 0.7533 - val_dense_7_loss: 0.2741 - val_dense_8_loss: 0.4791 - val_dense_7_accuracy: 0.9033 - val_dense_8_accuracy: 0.8167\n",
      "Epoch 12/15\n",
      "44/44 [==============================] - 0s 7ms/step - loss: 0.1638 - dense_7_loss: 0.0422 - dense_8_loss: 0.1215 - dense_7_accuracy: 0.9864 - dense_8_accuracy: 0.9500 - val_loss: 0.7844 - val_dense_7_loss: 0.2674 - val_dense_8_loss: 0.5171 - val_dense_7_accuracy: 0.9017 - val_dense_8_accuracy: 0.8167\n",
      "Epoch 13/15\n",
      "44/44 [==============================] - 0s 7ms/step - loss: 0.1237 - dense_7_loss: 0.0320 - dense_8_loss: 0.0917 - dense_7_accuracy: 0.9907 - dense_8_accuracy: 0.9679 - val_loss: 0.7899 - val_dense_7_loss: 0.2813 - val_dense_8_loss: 0.5086 - val_dense_7_accuracy: 0.9150 - val_dense_8_accuracy: 0.8233\n",
      "Epoch 14/15\n",
      "44/44 [==============================] - 0s 7ms/step - loss: 0.1099 - dense_7_loss: 0.0251 - dense_8_loss: 0.0848 - dense_7_accuracy: 0.9921 - dense_8_accuracy: 0.9693 - val_loss: 0.9241 - val_dense_7_loss: 0.3289 - val_dense_8_loss: 0.5952 - val_dense_7_accuracy: 0.9033 - val_dense_8_accuracy: 0.8183\n",
      "Epoch 15/15\n",
      "44/44 [==============================] - 0s 7ms/step - loss: 0.0762 - dense_7_loss: 0.0184 - dense_8_loss: 0.0577 - dense_7_accuracy: 0.9943 - dense_8_accuracy: 0.9836 - val_loss: 0.9270 - val_dense_7_loss: 0.3049 - val_dense_8_loss: 0.6221 - val_dense_7_accuracy: 0.9133 - val_dense_8_accuracy: 0.8083\n"
     ]
    }
   ],
   "source": [
    "hist2= model2.fit(train_images, [train_male_labels,train_smile_labels], \n",
    "                  validation_data=(test_images, [test_male_labels, test_smile_labels]), \n",
    "                  epochs=15, verbose=1)"
   ]
  },
  {
   "cell_type": "code",
   "execution_count": 47,
   "metadata": {
    "colab": {
     "base_uri": "https://localhost:8080/",
     "height": 265
    },
    "executionInfo": {
     "elapsed": 663,
     "status": "ok",
     "timestamp": 1608968531007,
     "user": {
      "displayName": "Son Kunyoung",
      "photoUrl": "",
      "userId": "06678997333956014431"
     },
     "user_tz": -540
    },
    "id": "63QWAg0lzfX3",
    "outputId": "4d123a99-fb44-4c32-8ea7-2ebb93690dda"
   },
   "outputs": [
    {
     "data": {
      "image/png": "[encoded data removed]",
      "text/plain": [
       "<Figure size 432x288 with 1 Axes>"
      ]
     },
     "metadata": {
      "needs_background": "light"
     },
     "output_type": "display_data"
    }
   ],
   "source": [
    "\n",
    "plt.plot(hist1.history['accuracy'], label = 'accuracy')\n",
    "plt.plot(hist1.history['loss'], label = 'loss')\n",
    "plt.plot(hist1.history['val_accuracy'], label = 'val_accuracy')\n",
    "plt.plot(hist1.history['val_loss'], label = 'val_loss')\n",
    "plt.plot(hist2.history['dense_7_accuracy'], label = 'dense_7_accuracy')\n",
    "plt.plot(hist2.history['loss'], label = 'loss')\n",
    "plt.plot(hist2.history['val_dense_7_accuracy'], label = 'val_dense_7_accuracy')\n",
    "plt.plot(hist2.history['val_loss'], label = 'val_loss')\n",
    "plt.legend()\n",
    "plt.show()"
   ]
  },
  {
   "cell_type": "code",
   "execution_count": 45,
   "metadata": {},
   "outputs": [
    {
     "data": {
      "text/plain": [
       "dict_keys(['loss', 'dense_7_loss', 'dense_8_loss', 'dense_7_accuracy', 'dense_8_accuracy', 'val_loss', 'val_dense_7_loss', 'val_dense_8_loss', 'val_dense_7_accuracy', 'val_dense_8_accuracy'])"
      ]
     },
     "execution_count": 45,
     "metadata": {},
     "output_type": "execute_result"
    }
   ],
   "source": [
    "hist2.history.keys()"
   ]
  },
  {
   "cell_type": "code",
   "execution_count": 48,
   "metadata": {
    "colab": {
     "base_uri": "https://localhost:8080/"
    },
    "executionInfo": {
     "elapsed": 639,
     "status": "ok",
     "timestamp": 1608969761234,
     "user": {
      "displayName": "Son Kunyoung",
      "photoUrl": "",
      "userId": "06678997333956014431"
     },
     "user_tz": -540
    },
    "id": "nvBz3eCEzfX4",
    "outputId": "526ae9af-1150-4279-c9cf-a8880d3d3edb"
   },
   "outputs": [
    {
     "name": "stdout",
     "output_type": "stream",
     "text": [
      "1/1 [==============================] - 0s 354ms/step\n"
     ]
    },
    {
     "data": {
      "text/plain": [
       "<matplotlib.image.AxesImage at 0x246e893c940>"
      ]
     },
     "execution_count": 48,
     "metadata": {},
     "output_type": "execute_result"
    },
    {
     "data": {
      "image/png": "[encoded data removed]",
      "text/plain": [
       "<Figure size 432x288 with 1 Axes>"
      ]
     },
     "metadata": {
      "needs_background": "light"
     },
     "output_type": "display_data"
    }
   ],
   "source": [
    "# 모델에 test_mages 중 1장을 넣고 결과를 받는 코드\n",
    "res = model.predict(test_images[2:3])\n",
    "#print(res[0].shape, res[1].shape)\n",
    "plt.imshow(test_images[2])\n",
    "\n"
   ]
  },
  {
   "cell_type": "markdown",
   "metadata": {
    "id": "UiIBTxMizfX5"
   },
   "source": [
    "## 모델 분리"
   ]
  },
  {
   "cell_type": "code",
   "execution_count": 49,
   "metadata": {},
   "outputs": [
    {
     "name": "stdout",
     "output_type": "stream",
     "text": [
      "Model: \"model_3\"\n",
      "__________________________________________________________________________________________________\n",
      " Layer (type)                   Output Shape         Param #     Connected to                     \n",
      "==================================================================================================\n",
      " input_4 (InputLayer)           [(None, 72, 59, 3)]  0           []                               \n",
      "                                                                                                  \n",
      " conv2d_9 (Conv2D)              (None, 70, 57, 32)   896         ['input_4[0][0]']                \n",
      "                                                                                                  \n",
      " max_pooling2d_9 (MaxPooling2D)  (None, 35, 28, 32)  0           ['conv2d_9[0][0]']               \n",
      "                                                                                                  \n",
      " conv2d_10 (Conv2D)             (None, 33, 26, 64)   18496       ['max_pooling2d_9[0][0]']        \n",
      "                                                                                                  \n",
      " max_pooling2d_10 (MaxPooling2D  (None, 16, 13, 64)  0           ['conv2d_10[0][0]']              \n",
      " )                                                                                                \n",
      "                                                                                                  \n",
      " conv2d_11 (Conv2D)             (None, 14, 11, 64)   36928       ['max_pooling2d_10[0][0]']       \n",
      "                                                                                                  \n",
      " max_pooling2d_11 (MaxPooling2D  (None, 7, 5, 64)    0           ['conv2d_11[0][0]']              \n",
      " )                                                                                                \n",
      "                                                                                                  \n",
      " flatten_3 (Flatten)            (None, 2240)         0           ['max_pooling2d_11[0][0]']       \n",
      "                                                                                                  \n",
      " dense_9 (Dense)                (None, 64)           143424      ['flatten_3[0][0]']              \n",
      "                                                                                                  \n",
      " dense_10 (Dense)               (None, 2)            130         ['dense_9[0][0]']                \n",
      "                                                                                                  \n",
      " dense_11 (Dense)               (None, 2)            130         ['dense_9[0][0]']                \n",
      "                                                                                                  \n",
      " concatenate_3 (Concatenate)    (None, 4)            0           ['dense_10[0][0]',               \n",
      "                                                                  'dense_11[0][0]']               \n",
      "                                                                                                  \n",
      "==================================================================================================\n",
      "Total params: 200,004\n",
      "Trainable params: 200,004\n",
      "Non-trainable params: 0\n",
      "__________________________________________________________________________________________________\n"
     ]
    }
   ],
   "source": [
    "model.summary()"
   ]
  },
  {
   "cell_type": "code",
   "execution_count": 50,
   "metadata": {
    "colab": {
     "base_uri": "https://localhost:8080/"
    },
    "executionInfo": {
     "elapsed": 735,
     "status": "ok",
     "timestamp": 1608970316661,
     "user": {
      "displayName": "Son Kunyoung",
      "photoUrl": "",
      "userId": "06678997333956014431"
     },
     "user_tz": -540
    },
    "id": "uTZWyAQKzfX5",
    "outputId": "e1e00423-9b23-4a71-b41d-a241a5a7c03c"
   },
   "outputs": [
    {
     "name": "stdout",
     "output_type": "stream",
     "text": [
      "Model: \"model_4\"\n",
      "_________________________________________________________________\n",
      " Layer (type)                Output Shape              Param #   \n",
      "=================================================================\n",
      " input_4 (InputLayer)        [(None, 72, 59, 3)]       0         \n",
      "                                                                 \n",
      " conv2d_9 (Conv2D)           (None, 70, 57, 32)        896       \n",
      "                                                                 \n",
      " max_pooling2d_9 (MaxPooling  (None, 35, 28, 32)       0         \n",
      " 2D)                                                             \n",
      "                                                                 \n",
      " conv2d_10 (Conv2D)          (None, 33, 26, 64)        18496     \n",
      "                                                                 \n",
      " max_pooling2d_10 (MaxPoolin  (None, 16, 13, 64)       0         \n",
      " g2D)                                                            \n",
      "                                                                 \n",
      " conv2d_11 (Conv2D)          (None, 14, 11, 64)        36928     \n",
      "                                                                 \n",
      " max_pooling2d_11 (MaxPoolin  (None, 7, 5, 64)         0         \n",
      " g2D)                                                            \n",
      "                                                                 \n",
      " flatten_3 (Flatten)         (None, 2240)              0         \n",
      "                                                                 \n",
      " dense_9 (Dense)             (None, 64)                143424    \n",
      "                                                                 \n",
      " dense_11 (Dense)            (None, 2)                 130       \n",
      "                                                                 \n",
      "=================================================================\n",
      "Total params: 199,874\n",
      "Trainable params: 199,874\n",
      "Non-trainable params: 0\n",
      "_________________________________________________________________\n"
     ]
    }
   ],
   "source": [
    "gender_model2 = Model(inputs = model.input, outputs = model.get_layer('dense_11').output)\n",
    "gender_model2.summary()"
   ]
  },
  {
   "cell_type": "code",
   "execution_count": 51,
   "metadata": {
    "colab": {
     "base_uri": "https://localhost:8080/"
    },
    "executionInfo": {
     "elapsed": 600,
     "status": "ok",
     "timestamp": 1608970595937,
     "user": {
      "displayName": "Son Kunyoung",
      "photoUrl": "",
      "userId": "06678997333956014431"
     },
     "user_tz": -540
    },
    "id": "AHhv_4NDzfX6",
    "outputId": "88a2ba56-cd5b-480f-a2a1-8383ca097b62"
   },
   "outputs": [
    {
     "name": "stdout",
     "output_type": "stream",
     "text": [
      "1/1 [==============================] - 0s 27ms/step\n"
     ]
    },
    {
     "data": {
      "text/plain": [
       "1"
      ]
     },
     "execution_count": 51,
     "metadata": {},
     "output_type": "execute_result"
    }
   ],
   "source": [
    "# 성별모델에서 테스트 데이터 확인\n",
    "x = gender_model2.predict(test_images[0:1])\n",
    "x.argmax()"
   ]
  },
  {
   "cell_type": "markdown",
   "metadata": {
    "id": "agZArRLlzfX6"
   },
   "source": [
    "### [미션]  smile모델을 분리하여 작업후 smile 모델에서 사진 확인해봄"
   ]
  },
  {
   "cell_type": "code",
   "execution_count": null,
   "metadata": {
    "id": "k3y7lP30J6f1"
   },
   "outputs": [],
   "source": []
  }
 ],
 "metadata": {
  "accelerator": "GPU",
  "colab": {
   "collapsed_sections": [],
   "name": "성별과 웃음 여부를 동시에 판단하는 모델을 만들어보자 - 수강생용",
   "provenance": [
    {
     "file_id": "1Io5tORQ26KAQRzEp0TG_cW06eYzEEj0r",
     "timestamp": 1608127785667
    },
    {
     "file_id": "1Hm44wAIpivC27nk4f6DG9oRUjlUMt-cI",
     "timestamp": 1605330830344
    },
    {
     "file_id": "1OevQ5s8yBDddaUMZX1rfZZYrnTT52RAO",
     "timestamp": 1605252106489
    }
   ],
   "toc_visible": true
  },
  "kernelspec": {
   "display_name": "Python 3 (ipykernel)",
   "language": "python",
   "name": "python3"
  },
  "language_info": {
   "codemirror_mode": {
    "name": "ipython",
    "version": 3
   },
   "file_extension": ".py",
   "mimetype": "text/x-python",
   "name": "python",
   "nbconvert_exporter": "python",
   "pygments_lexer": "ipython3",
   "version": "3.9.12"
  },
  "widgets": {
   "application/vnd.jupyter.widget-state+json": {
    "009de5a5ddc24e1eab8d1d1cce2c0a0e": {
     "model_module": "@jupyter-widgets/base",
     "model_name": "LayoutModel",
     "state": {
      "_model_module": "@jupyter-widgets/base",
      "_model_module_version": "1.2.0",
      "_model_name": "LayoutModel",
      "_view_count": null,
      "_view_module": "@jupyter-widgets/base",
      "_view_module_version": "1.2.0",
      "_view_name": "LayoutView",
      "align_content": null,
      "align_items": null,
      "align_self": null,
      "border": null,
      "bottom": null,
      "display": null,
      "flex": null,
      "flex_flow": null,
      "grid_area": null,
      "grid_auto_columns": null,
      "grid_auto_flow": null,
      "grid_auto_rows": null,
      "grid_column": null,
      "grid_gap": null,
      "grid_row": null,
      "grid_template_areas": null,
      "grid_template_columns": null,
      "grid_template_rows": null,
      "height": null,
      "justify_content": null,
      "justify_items": null,
      "left": null,
      "margin": null,
      "max_height": null,
      "max_width": null,
      "min_height": null,
      "min_width": null,
      "object_fit": null,
      "object_position": null,
      "order": null,
      "overflow": null,
      "overflow_x": null,
      "overflow_y": null,
      "padding": null,
      "right": null,
      "top": null,
      "visibility": null,
      "width": null
     }
    },
    "013e6bb380304dd2bfb74ad1d71c4c93": {
     "model_module": "@jupyter-widgets/controls",
     "model_name": "DescriptionStyleModel",
     "state": {
      "_model_module": "@jupyter-widgets/controls",
      "_model_module_version": "1.5.0",
      "_model_name": "DescriptionStyleModel",
      "_view_count": null,
      "_view_module": "@jupyter-widgets/base",
      "_view_module_version": "1.2.0",
      "_view_name": "StyleView",
      "description_width": ""
     }
    },
    "06b489d14ca749c58e89301d541d0a69": {
     "model_module": "@jupyter-widgets/controls",
     "model_name": "HBoxModel",
     "state": {
      "_dom_classes": [],
      "_model_module": "@jupyter-widgets/controls",
      "_model_module_version": "1.5.0",
      "_model_name": "HBoxModel",
      "_view_count": null,
      "_view_module": "@jupyter-widgets/controls",
      "_view_module_version": "1.5.0",
      "_view_name": "HBoxView",
      "box_style": "",
      "children": [
       "IPY_MODEL_c074f77422984f288fcc14239e9003db",
       "IPY_MODEL_1d7b17485ce7470c9a6d2b1be3788841"
      ],
      "layout": "IPY_MODEL_f00fd46e2b6349e6a743120e78856ba2"
     }
    },
    "090b64cb9a7047aa8c25151b4e1ef402": {
     "model_module": "@jupyter-widgets/base",
     "model_name": "LayoutModel",
     "state": {
      "_model_module": "@jupyter-widgets/base",
      "_model_module_version": "1.2.0",
      "_model_name": "LayoutModel",
      "_view_count": null,
      "_view_module": "@jupyter-widgets/base",
      "_view_module_version": "1.2.0",
      "_view_name": "LayoutView",
      "align_content": null,
      "align_items": null,
      "align_self": null,
      "border": null,
      "bottom": null,
      "display": null,
      "flex": null,
      "flex_flow": null,
      "grid_area": null,
      "grid_auto_columns": null,
      "grid_auto_flow": null,
      "grid_auto_rows": null,
      "grid_column": null,
      "grid_gap": null,
      "grid_row": null,
      "grid_template_areas": null,
      "grid_template_columns": null,
      "grid_template_rows": null,
      "height": null,
      "justify_content": null,
      "justify_items": null,
      "left": null,
      "margin": null,
      "max_height": null,
      "max_width": null,
      "min_height": null,
      "min_width": null,
      "object_fit": null,
      "object_position": null,
      "order": null,
      "overflow": null,
      "overflow_x": null,
      "overflow_y": null,
      "padding": null,
      "right": null,
      "top": null,
      "visibility": null,
      "width": null
     }
    },
    "0c27ff99d364445081c966f1c5ecee04": {
     "model_module": "@jupyter-widgets/controls",
     "model_name": "FloatProgressModel",
     "state": {
      "_dom_classes": [],
      "_model_module": "@jupyter-widgets/controls",
      "_model_module_version": "1.5.0",
      "_model_name": "FloatProgressModel",
      "_view_count": null,
      "_view_module": "@jupyter-widgets/controls",
      "_view_module_version": "1.5.0",
      "_view_name": "ProgressView",
      "bar_style": "danger",
      "description": " 91%",
      "description_tooltip": null,
      "layout": "IPY_MODEL_2a1ee636b1e244048c0e472118c6a70b",
      "max": 19867,
      "min": 0,
      "orientation": "horizontal",
      "style": "IPY_MODEL_c3d76a7bd67d43f6807985e87d68db1c",
      "value": 18079
     }
    },
    "0d627bb08a5e47c8a03b3068e3b7bac2": {
     "model_module": "@jupyter-widgets/controls",
     "model_name": "DescriptionStyleModel",
     "state": {
      "_model_module": "@jupyter-widgets/controls",
      "_model_module_version": "1.5.0",
      "_model_name": "DescriptionStyleModel",
      "_view_count": null,
      "_view_module": "@jupyter-widgets/base",
      "_view_module_version": "1.2.0",
      "_view_name": "StyleView",
      "description_width": ""
     }
    },
    "0ff239611353450a97d10c898711e452": {
     "model_module": "@jupyter-widgets/base",
     "model_name": "LayoutModel",
     "state": {
      "_model_module": "@jupyter-widgets/base",
      "_model_module_version": "1.2.0",
      "_model_name": "LayoutModel",
      "_view_count": null,
      "_view_module": "@jupyter-widgets/base",
      "_view_module_version": "1.2.0",
      "_view_name": "LayoutView",
      "align_content": null,
      "align_items": null,
      "align_self": null,
      "border": null,
      "bottom": null,
      "display": null,
      "flex": null,
      "flex_flow": null,
      "grid_area": null,
      "grid_auto_columns": null,
      "grid_auto_flow": null,
      "grid_auto_rows": null,
      "grid_column": null,
      "grid_gap": null,
      "grid_row": null,
      "grid_template_areas": null,
      "grid_template_columns": null,
      "grid_template_rows": null,
      "height": null,
      "justify_content": null,
      "justify_items": null,
      "left": null,
      "margin": null,
      "max_height": null,
      "max_width": null,
      "min_height": null,
      "min_width": null,
      "object_fit": null,
      "object_position": null,
      "order": null,
      "overflow": null,
      "overflow_x": null,
      "overflow_y": null,
      "padding": null,
      "right": null,
      "top": null,
      "visibility": null,
      "width": null
     }
    },
    "1218bff7f0e54b909cf093bc0b9ee5d2": {
     "model_module": "@jupyter-widgets/controls",
     "model_name": "ProgressStyleModel",
     "state": {
      "_model_module": "@jupyter-widgets/controls",
      "_model_module_version": "1.5.0",
      "_model_name": "ProgressStyleModel",
      "_view_count": null,
      "_view_module": "@jupyter-widgets/base",
      "_view_module_version": "1.2.0",
      "_view_name": "StyleView",
      "bar_color": null,
      "description_width": "initial"
     }
    },
    "1d7b17485ce7470c9a6d2b1be3788841": {
     "model_module": "@jupyter-widgets/controls",
     "model_name": "HTMLModel",
     "state": {
      "_dom_classes": [],
      "_model_module": "@jupyter-widgets/controls",
      "_model_module_version": "1.5.0",
      "_model_name": "HTMLModel",
      "_view_count": null,
      "_view_module": "@jupyter-widgets/controls",
      "_view_module_version": "1.5.0",
      "_view_name": "HTMLView",
      "description": "",
      "description_tooltip": null,
      "layout": "IPY_MODEL_d81d2e8a44344234828af9abbc7612cf",
      "placeholder": "​",
      "style": "IPY_MODEL_99084e91d3af4ae7826518ab7d230bb7",
      "value": " 19867/0 [00:47&lt;00:00, 408.06 examples/s]"
     }
    },
    "1e0c65b09dbd488a9bc7c4a841e99afc": {
     "model_module": "@jupyter-widgets/controls",
     "model_name": "ProgressStyleModel",
     "state": {
      "_model_module": "@jupyter-widgets/controls",
      "_model_module_version": "1.5.0",
      "_model_name": "ProgressStyleModel",
      "_view_count": null,
      "_view_module": "@jupyter-widgets/base",
      "_view_module_version": "1.2.0",
      "_view_name": "StyleView",
      "bar_color": null,
      "description_width": "initial"
     }
    },
    "211eaf75d46c4c829414fd489646751d": {
     "model_module": "@jupyter-widgets/controls",
     "model_name": "ProgressStyleModel",
     "state": {
      "_model_module": "@jupyter-widgets/controls",
      "_model_module_version": "1.5.0",
      "_model_name": "ProgressStyleModel",
      "_view_count": null,
      "_view_module": "@jupyter-widgets/base",
      "_view_module_version": "1.2.0",
      "_view_name": "StyleView",
      "bar_color": null,
      "description_width": "initial"
     }
    },
    "2a1ee636b1e244048c0e472118c6a70b": {
     "model_module": "@jupyter-widgets/base",
     "model_name": "LayoutModel",
     "state": {
      "_model_module": "@jupyter-widgets/base",
      "_model_module_version": "1.2.0",
      "_model_name": "LayoutModel",
      "_view_count": null,
      "_view_module": "@jupyter-widgets/base",
      "_view_module_version": "1.2.0",
      "_view_name": "LayoutView",
      "align_content": null,
      "align_items": null,
      "align_self": null,
      "border": null,
      "bottom": null,
      "display": null,
      "flex": null,
      "flex_flow": null,
      "grid_area": null,
      "grid_auto_columns": null,
      "grid_auto_flow": null,
      "grid_auto_rows": null,
      "grid_column": null,
      "grid_gap": null,
      "grid_row": null,
      "grid_template_areas": null,
      "grid_template_columns": null,
      "grid_template_rows": null,
      "height": null,
      "justify_content": null,
      "justify_items": null,
      "left": null,
      "margin": null,
      "max_height": null,
      "max_width": null,
      "min_height": null,
      "min_width": null,
      "object_fit": null,
      "object_position": null,
      "order": null,
      "overflow": null,
      "overflow_x": null,
      "overflow_y": null,
      "padding": null,
      "right": null,
      "top": null,
      "visibility": null,
      "width": null
     }
    },
    "2ad5d279c3b848a7a4d954bc533feeab": {
     "model_module": "@jupyter-widgets/base",
     "model_name": "LayoutModel",
     "state": {
      "_model_module": "@jupyter-widgets/base",
      "_model_module_version": "1.2.0",
      "_model_name": "LayoutModel",
      "_view_count": null,
      "_view_module": "@jupyter-widgets/base",
      "_view_module_version": "1.2.0",
      "_view_name": "LayoutView",
      "align_content": null,
      "align_items": null,
      "align_self": null,
      "border": null,
      "bottom": null,
      "display": null,
      "flex": null,
      "flex_flow": null,
      "grid_area": null,
      "grid_auto_columns": null,
      "grid_auto_flow": null,
      "grid_auto_rows": null,
      "grid_column": null,
      "grid_gap": null,
      "grid_row": null,
      "grid_template_areas": null,
      "grid_template_columns": null,
      "grid_template_rows": null,
      "height": null,
      "justify_content": null,
      "justify_items": null,
      "left": null,
      "margin": null,
      "max_height": null,
      "max_width": null,
      "min_height": null,
      "min_width": null,
      "object_fit": null,
      "object_position": null,
      "order": null,
      "overflow": null,
      "overflow_x": null,
      "overflow_y": null,
      "padding": null,
      "right": null,
      "top": null,
      "visibility": null,
      "width": null
     }
    },
    "2b4f6b6188d44327a2c9cc64161d74b2": {
     "model_module": "@jupyter-widgets/controls",
     "model_name": "HTMLModel",
     "state": {
      "_dom_classes": [],
      "_model_module": "@jupyter-widgets/controls",
      "_model_module_version": "1.5.0",
      "_model_name": "HTMLModel",
      "_view_count": null,
      "_view_module": "@jupyter-widgets/controls",
      "_view_module_version": "1.5.0",
      "_view_name": "HTMLView",
      "description": "",
      "description_tooltip": null,
      "layout": "IPY_MODEL_86774b87a0404f57bf0b094d533206bc",
      "placeholder": "​",
      "style": "IPY_MODEL_013e6bb380304dd2bfb74ad1d71c4c93",
      "value": " 1414/0 [00:23&lt;00:00, 59.36 MiB/s]"
     }
    },
    "2b684554fd7d428f8e15a0c85fa023fd": {
     "model_module": "@jupyter-widgets/controls",
     "model_name": "DescriptionStyleModel",
     "state": {
      "_model_module": "@jupyter-widgets/controls",
      "_model_module_version": "1.5.0",
      "_model_name": "DescriptionStyleModel",
      "_view_count": null,
      "_view_module": "@jupyter-widgets/base",
      "_view_module_version": "1.2.0",
      "_view_name": "StyleView",
      "description_width": ""
     }
    },
    "326bcff9c73848f3a3d1db007388a236": {
     "model_module": "@jupyter-widgets/base",
     "model_name": "LayoutModel",
     "state": {
      "_model_module": "@jupyter-widgets/base",
      "_model_module_version": "1.2.0",
      "_model_name": "LayoutModel",
      "_view_count": null,
      "_view_module": "@jupyter-widgets/base",
      "_view_module_version": "1.2.0",
      "_view_name": "LayoutView",
      "align_content": null,
      "align_items": null,
      "align_self": null,
      "border": null,
      "bottom": null,
      "display": null,
      "flex": null,
      "flex_flow": null,
      "grid_area": null,
      "grid_auto_columns": null,
      "grid_auto_flow": null,
      "grid_auto_rows": null,
      "grid_column": null,
      "grid_gap": null,
      "grid_row": null,
      "grid_template_areas": null,
      "grid_template_columns": null,
      "grid_template_rows": null,
      "height": null,
      "justify_content": null,
      "justify_items": null,
      "left": null,
      "margin": null,
      "max_height": null,
      "max_width": null,
      "min_height": null,
      "min_width": null,
      "object_fit": null,
      "object_position": null,
      "order": null,
      "overflow": null,
      "overflow_x": null,
      "overflow_y": null,
      "padding": null,
      "right": null,
      "top": null,
      "visibility": null,
      "width": null
     }
    },
    "3aaf89b13ee7410faeb40f8db8b26d62": {
     "model_module": "@jupyter-widgets/base",
     "model_name": "LayoutModel",
     "state": {
      "_model_module": "@jupyter-widgets/base",
      "_model_module_version": "1.2.0",
      "_model_name": "LayoutModel",
      "_view_count": null,
      "_view_module": "@jupyter-widgets/base",
      "_view_module_version": "1.2.0",
      "_view_name": "LayoutView",
      "align_content": null,
      "align_items": null,
      "align_self": null,
      "border": null,
      "bottom": null,
      "display": null,
      "flex": null,
      "flex_flow": null,
      "grid_area": null,
      "grid_auto_columns": null,
      "grid_auto_flow": null,
      "grid_auto_rows": null,
      "grid_column": null,
      "grid_gap": null,
      "grid_row": null,
      "grid_template_areas": null,
      "grid_template_columns": null,
      "grid_template_rows": null,
      "height": null,
      "justify_content": null,
      "justify_items": null,
      "left": null,
      "margin": null,
      "max_height": null,
      "max_width": null,
      "min_height": null,
      "min_width": null,
      "object_fit": null,
      "object_position": null,
      "order": null,
      "overflow": null,
      "overflow_x": null,
      "overflow_y": null,
      "padding": null,
      "right": null,
      "top": null,
      "visibility": null,
      "width": null
     }
    },
    "3af2fcc4f42e4174ac59f4f4230af857": {
     "model_module": "@jupyter-widgets/controls",
     "model_name": "HBoxModel",
     "state": {
      "_dom_classes": [],
      "_model_module": "@jupyter-widgets/controls",
      "_model_module_version": "1.5.0",
      "_model_name": "HBoxModel",
      "_view_count": null,
      "_view_module": "@jupyter-widgets/controls",
      "_view_module_version": "1.5.0",
      "_view_name": "HBoxView",
      "box_style": "",
      "children": [
       "IPY_MODEL_8830cc1329d64172b181c1d57046aada",
       "IPY_MODEL_ebbd4516ebb1445ea78efaf86eccef78"
      ],
      "layout": "IPY_MODEL_a629cbd826bf4f63bc3c2983119b0326"
     }
    },
    "3b67560e5eef414b942cd592190cbd3f": {
     "model_module": "@jupyter-widgets/controls",
     "model_name": "FloatProgressModel",
     "state": {
      "_dom_classes": [],
      "_model_module": "@jupyter-widgets/controls",
      "_model_module_version": "1.5.0",
      "_model_name": "FloatProgressModel",
      "_view_count": null,
      "_view_module": "@jupyter-widgets/controls",
      "_view_module_version": "1.5.0",
      "_view_name": "ProgressView",
      "bar_style": "danger",
      "description": " 94%",
      "description_tooltip": null,
      "layout": "IPY_MODEL_326bcff9c73848f3a3d1db007388a236",
      "max": 19962,
      "min": 0,
      "orientation": "horizontal",
      "style": "IPY_MODEL_211eaf75d46c4c829414fd489646751d",
      "value": 18693
     }
    },
    "4eb68727eb154db59c82fb645aa64fb5": {
     "model_module": "@jupyter-widgets/base",
     "model_name": "LayoutModel",
     "state": {
      "_model_module": "@jupyter-widgets/base",
      "_model_module_version": "1.2.0",
      "_model_name": "LayoutModel",
      "_view_count": null,
      "_view_module": "@jupyter-widgets/base",
      "_view_module_version": "1.2.0",
      "_view_name": "LayoutView",
      "align_content": null,
      "align_items": null,
      "align_self": null,
      "border": null,
      "bottom": null,
      "display": null,
      "flex": null,
      "flex_flow": null,
      "grid_area": null,
      "grid_auto_columns": null,
      "grid_auto_flow": null,
      "grid_auto_rows": null,
      "grid_column": null,
      "grid_gap": null,
      "grid_row": null,
      "grid_template_areas": null,
      "grid_template_columns": null,
      "grid_template_rows": null,
      "height": null,
      "justify_content": null,
      "justify_items": null,
      "left": null,
      "margin": null,
      "max_height": null,
      "max_width": null,
      "min_height": null,
      "min_width": null,
      "object_fit": null,
      "object_position": null,
      "order": null,
      "overflow": null,
      "overflow_x": null,
      "overflow_y": null,
      "padding": null,
      "right": null,
      "top": null,
      "visibility": null,
      "width": null
     }
    },
    "57b820991e64409797663aa86ab5aeb7": {
     "model_module": "@jupyter-widgets/controls",
     "model_name": "DescriptionStyleModel",
     "state": {
      "_model_module": "@jupyter-widgets/controls",
      "_model_module_version": "1.5.0",
      "_model_name": "DescriptionStyleModel",
      "_view_count": null,
      "_view_module": "@jupyter-widgets/base",
      "_view_module_version": "1.2.0",
      "_view_name": "StyleView",
      "description_width": ""
     }
    },
    "5daae4a1760b48289c004ac69d2a7f9a": {
     "model_module": "@jupyter-widgets/controls",
     "model_name": "HBoxModel",
     "state": {
      "_dom_classes": [],
      "_model_module": "@jupyter-widgets/controls",
      "_model_module_version": "1.5.0",
      "_model_name": "HBoxModel",
      "_view_count": null,
      "_view_module": "@jupyter-widgets/controls",
      "_view_module_version": "1.5.0",
      "_view_name": "HBoxView",
      "box_style": "",
      "children": [
       "IPY_MODEL_e6c71a9be7804e0da80d9344b8f502f8",
       "IPY_MODEL_786e407301c545e4a6a47437d6a437fc"
      ],
      "layout": "IPY_MODEL_de96ffcbf9ce4bc5ab83b8f08827cfc3"
     }
    },
    "5e6018cb13bf45c9b78a29698065e5a4": {
     "model_module": "@jupyter-widgets/base",
     "model_name": "LayoutModel",
     "state": {
      "_model_module": "@jupyter-widgets/base",
      "_model_module_version": "1.2.0",
      "_model_name": "LayoutModel",
      "_view_count": null,
      "_view_module": "@jupyter-widgets/base",
      "_view_module_version": "1.2.0",
      "_view_name": "LayoutView",
      "align_content": null,
      "align_items": null,
      "align_self": null,
      "border": null,
      "bottom": null,
      "display": null,
      "flex": null,
      "flex_flow": null,
      "grid_area": null,
      "grid_auto_columns": null,
      "grid_auto_flow": null,
      "grid_auto_rows": null,
      "grid_column": null,
      "grid_gap": null,
      "grid_row": null,
      "grid_template_areas": null,
      "grid_template_columns": null,
      "grid_template_rows": null,
      "height": null,
      "justify_content": null,
      "justify_items": null,
      "left": null,
      "margin": null,
      "max_height": null,
      "max_width": null,
      "min_height": null,
      "min_width": null,
      "object_fit": null,
      "object_position": null,
      "order": null,
      "overflow": null,
      "overflow_x": null,
      "overflow_y": null,
      "padding": null,
      "right": null,
      "top": null,
      "visibility": null,
      "width": null
     }
    },
    "61ba872c8089469db1976e7976f8728c": {
     "model_module": "@jupyter-widgets/controls",
     "model_name": "HBoxModel",
     "state": {
      "_dom_classes": [],
      "_model_module": "@jupyter-widgets/controls",
      "_model_module_version": "1.5.0",
      "_model_name": "HBoxModel",
      "_view_count": null,
      "_view_module": "@jupyter-widgets/controls",
      "_view_module_version": "1.5.0",
      "_view_name": "HBoxView",
      "box_style": "",
      "children": [
       "IPY_MODEL_a1500a144f704b639d1f1d4443d51813",
       "IPY_MODEL_2b4f6b6188d44327a2c9cc64161d74b2"
      ],
      "layout": "IPY_MODEL_090b64cb9a7047aa8c25151b4e1ef402"
     }
    },
    "6fb9d2c20b9c4af2940bd71d5ed8b1b4": {
     "model_module": "@jupyter-widgets/controls",
     "model_name": "ProgressStyleModel",
     "state": {
      "_model_module": "@jupyter-widgets/controls",
      "_model_module_version": "1.5.0",
      "_model_name": "ProgressStyleModel",
      "_view_count": null,
      "_view_module": "@jupyter-widgets/base",
      "_view_module_version": "1.2.0",
      "_view_name": "StyleView",
      "bar_color": null,
      "description_width": "initial"
     }
    },
    "706f21c7a8254f69bf7c3ecfdbb45f9f": {
     "model_module": "@jupyter-widgets/base",
     "model_name": "LayoutModel",
     "state": {
      "_model_module": "@jupyter-widgets/base",
      "_model_module_version": "1.2.0",
      "_model_name": "LayoutModel",
      "_view_count": null,
      "_view_module": "@jupyter-widgets/base",
      "_view_module_version": "1.2.0",
      "_view_name": "LayoutView",
      "align_content": null,
      "align_items": null,
      "align_self": null,
      "border": null,
      "bottom": null,
      "display": null,
      "flex": null,
      "flex_flow": null,
      "grid_area": null,
      "grid_auto_columns": null,
      "grid_auto_flow": null,
      "grid_auto_rows": null,
      "grid_column": null,
      "grid_gap": null,
      "grid_row": null,
      "grid_template_areas": null,
      "grid_template_columns": null,
      "grid_template_rows": null,
      "height": null,
      "justify_content": null,
      "justify_items": null,
      "left": null,
      "margin": null,
      "max_height": null,
      "max_width": null,
      "min_height": null,
      "min_width": null,
      "object_fit": null,
      "object_position": null,
      "order": null,
      "overflow": null,
      "overflow_x": null,
      "overflow_y": null,
      "padding": null,
      "right": null,
      "top": null,
      "visibility": null,
      "width": null
     }
    },
    "71a5bfab194845b7b7483ba8dfa7d5c8": {
     "model_module": "@jupyter-widgets/controls",
     "model_name": "HTMLModel",
     "state": {
      "_dom_classes": [],
      "_model_module": "@jupyter-widgets/controls",
      "_model_module_version": "1.5.0",
      "_model_name": "HTMLModel",
      "_view_count": null,
      "_view_module": "@jupyter-widgets/controls",
      "_view_module_version": "1.5.0",
      "_view_name": "HTMLView",
      "description": "",
      "description_tooltip": null,
      "layout": "IPY_MODEL_3aaf89b13ee7410faeb40f8db8b26d62",
      "placeholder": "​",
      "style": "IPY_MODEL_baaedfcab40345f0bb497b80459ed8ac",
      "value": " 18693/19962 [00:06&lt;00:00, 53677.93 examples/s]"
     }
    },
    "768936ddd23a4dc2bcdc61e1a7938641": {
     "model_module": "@jupyter-widgets/base",
     "model_name": "LayoutModel",
     "state": {
      "_model_module": "@jupyter-widgets/base",
      "_model_module_version": "1.2.0",
      "_model_name": "LayoutModel",
      "_view_count": null,
      "_view_module": "@jupyter-widgets/base",
      "_view_module_version": "1.2.0",
      "_view_name": "LayoutView",
      "align_content": null,
      "align_items": null,
      "align_self": null,
      "border": null,
      "bottom": null,
      "display": null,
      "flex": null,
      "flex_flow": null,
      "grid_area": null,
      "grid_auto_columns": null,
      "grid_auto_flow": null,
      "grid_auto_rows": null,
      "grid_column": null,
      "grid_gap": null,
      "grid_row": null,
      "grid_template_areas": null,
      "grid_template_columns": null,
      "grid_template_rows": null,
      "height": null,
      "justify_content": null,
      "justify_items": null,
      "left": null,
      "margin": null,
      "max_height": null,
      "max_width": null,
      "min_height": null,
      "min_width": null,
      "object_fit": null,
      "object_position": null,
      "order": null,
      "overflow": null,
      "overflow_x": null,
      "overflow_y": null,
      "padding": null,
      "right": null,
      "top": null,
      "visibility": null,
      "width": null
     }
    },
    "786e407301c545e4a6a47437d6a437fc": {
     "model_module": "@jupyter-widgets/controls",
     "model_name": "HTMLModel",
     "state": {
      "_dom_classes": [],
      "_model_module": "@jupyter-widgets/controls",
      "_model_module_version": "1.5.0",
      "_model_name": "HTMLModel",
      "_view_count": null,
      "_view_module": "@jupyter-widgets/controls",
      "_view_module_version": "1.5.0",
      "_view_name": "HTMLView",
      "description": "",
      "description_tooltip": null,
      "layout": "IPY_MODEL_706f21c7a8254f69bf7c3ecfdbb45f9f",
      "placeholder": "​",
      "style": "IPY_MODEL_a307b24459564c7e9ee075c3a1ee3e17",
      "value": " 4/4 [00:23&lt;00:00,  5.96s/ url]"
     }
    },
    "791fef1966914c71b31a6a8428380ed8": {
     "model_module": "@jupyter-widgets/base",
     "model_name": "LayoutModel",
     "state": {
      "_model_module": "@jupyter-widgets/base",
      "_model_module_version": "1.2.0",
      "_model_name": "LayoutModel",
      "_view_count": null,
      "_view_module": "@jupyter-widgets/base",
      "_view_module_version": "1.2.0",
      "_view_name": "LayoutView",
      "align_content": null,
      "align_items": null,
      "align_self": null,
      "border": null,
      "bottom": null,
      "display": null,
      "flex": null,
      "flex_flow": null,
      "grid_area": null,
      "grid_auto_columns": null,
      "grid_auto_flow": null,
      "grid_auto_rows": null,
      "grid_column": null,
      "grid_gap": null,
      "grid_row": null,
      "grid_template_areas": null,
      "grid_template_columns": null,
      "grid_template_rows": null,
      "height": null,
      "justify_content": null,
      "justify_items": null,
      "left": null,
      "margin": null,
      "max_height": null,
      "max_width": null,
      "min_height": null,
      "min_width": null,
      "object_fit": null,
      "object_position": null,
      "order": null,
      "overflow": null,
      "overflow_x": null,
      "overflow_y": null,
      "padding": null,
      "right": null,
      "top": null,
      "visibility": null,
      "width": null
     }
    },
    "7bf0244ffafa467bacb02ee42e119ac0": {
     "model_module": "@jupyter-widgets/controls",
     "model_name": "HBoxModel",
     "state": {
      "_dom_classes": [],
      "_model_module": "@jupyter-widgets/controls",
      "_model_module_version": "1.5.0",
      "_model_name": "HBoxModel",
      "_view_count": null,
      "_view_module": "@jupyter-widgets/controls",
      "_view_module_version": "1.5.0",
      "_view_name": "HBoxView",
      "box_style": "",
      "children": [
       "IPY_MODEL_0c27ff99d364445081c966f1c5ecee04",
       "IPY_MODEL_e6ba9787032840a3b79ed197695c26ee"
      ],
      "layout": "IPY_MODEL_009de5a5ddc24e1eab8d1d1cce2c0a0e"
     }
    },
    "825e07ebb1da4359bf867390f9a6000f": {
     "model_module": "@jupyter-widgets/controls",
     "model_name": "FloatProgressModel",
     "state": {
      "_dom_classes": [],
      "_model_module": "@jupyter-widgets/controls",
      "_model_module_version": "1.5.0",
      "_model_name": "FloatProgressModel",
      "_view_count": null,
      "_view_module": "@jupyter-widgets/controls",
      "_view_module_version": "1.5.0",
      "_view_name": "ProgressView",
      "bar_style": "info",
      "description": "",
      "description_tooltip": null,
      "layout": "IPY_MODEL_791fef1966914c71b31a6a8428380ed8",
      "max": 1,
      "min": 0,
      "orientation": "horizontal",
      "style": "IPY_MODEL_1e0c65b09dbd488a9bc7c4a841e99afc",
      "value": 1
     }
    },
    "8422c3a1ffc041eb9943e69c62826a5c": {
     "model_module": "@jupyter-widgets/controls",
     "model_name": "HBoxModel",
     "state": {
      "_dom_classes": [],
      "_model_module": "@jupyter-widgets/controls",
      "_model_module_version": "1.5.0",
      "_model_name": "HBoxModel",
      "_view_count": null,
      "_view_module": "@jupyter-widgets/controls",
      "_view_module_version": "1.5.0",
      "_view_name": "HBoxView",
      "box_style": "",
      "children": [
       "IPY_MODEL_3b67560e5eef414b942cd592190cbd3f",
       "IPY_MODEL_71a5bfab194845b7b7483ba8dfa7d5c8"
      ],
      "layout": "IPY_MODEL_8c89746788074dc4a3c5a24940a92202"
     }
    },
    "86774b87a0404f57bf0b094d533206bc": {
     "model_module": "@jupyter-widgets/base",
     "model_name": "LayoutModel",
     "state": {
      "_model_module": "@jupyter-widgets/base",
      "_model_module_version": "1.2.0",
      "_model_name": "LayoutModel",
      "_view_count": null,
      "_view_module": "@jupyter-widgets/base",
      "_view_module_version": "1.2.0",
      "_view_name": "LayoutView",
      "align_content": null,
      "align_items": null,
      "align_self": null,
      "border": null,
      "bottom": null,
      "display": null,
      "flex": null,
      "flex_flow": null,
      "grid_area": null,
      "grid_auto_columns": null,
      "grid_auto_flow": null,
      "grid_auto_rows": null,
      "grid_column": null,
      "grid_gap": null,
      "grid_row": null,
      "grid_template_areas": null,
      "grid_template_columns": null,
      "grid_template_rows": null,
      "height": null,
      "justify_content": null,
      "justify_items": null,
      "left": null,
      "margin": null,
      "max_height": null,
      "max_width": null,
      "min_height": null,
      "min_width": null,
      "object_fit": null,
      "object_position": null,
      "order": null,
      "overflow": null,
      "overflow_x": null,
      "overflow_y": null,
      "padding": null,
      "right": null,
      "top": null,
      "visibility": null,
      "width": null
     }
    },
    "8830cc1329d64172b181c1d57046aada": {
     "model_module": "@jupyter-widgets/controls",
     "model_name": "FloatProgressModel",
     "state": {
      "_dom_classes": [],
      "_model_module": "@jupyter-widgets/controls",
      "_model_module_version": "1.5.0",
      "_model_name": "FloatProgressModel",
      "_view_count": null,
      "_view_module": "@jupyter-widgets/controls",
      "_view_module_version": "1.5.0",
      "_view_name": "ProgressView",
      "bar_style": "danger",
      "description": " 99%",
      "description_tooltip": null,
      "layout": "IPY_MODEL_2ad5d279c3b848a7a4d954bc533feeab",
      "max": 162770,
      "min": 0,
      "orientation": "horizontal",
      "style": "IPY_MODEL_6fb9d2c20b9c4af2940bd71d5ed8b1b4",
      "value": 161431
     }
    },
    "8c89746788074dc4a3c5a24940a92202": {
     "model_module": "@jupyter-widgets/base",
     "model_name": "LayoutModel",
     "state": {
      "_model_module": "@jupyter-widgets/base",
      "_model_module_version": "1.2.0",
      "_model_name": "LayoutModel",
      "_view_count": null,
      "_view_module": "@jupyter-widgets/base",
      "_view_module_version": "1.2.0",
      "_view_name": "LayoutView",
      "align_content": null,
      "align_items": null,
      "align_self": null,
      "border": null,
      "bottom": null,
      "display": null,
      "flex": null,
      "flex_flow": null,
      "grid_area": null,
      "grid_auto_columns": null,
      "grid_auto_flow": null,
      "grid_auto_rows": null,
      "grid_column": null,
      "grid_gap": null,
      "grid_row": null,
      "grid_template_areas": null,
      "grid_template_columns": null,
      "grid_template_rows": null,
      "height": null,
      "justify_content": null,
      "justify_items": null,
      "left": null,
      "margin": null,
      "max_height": null,
      "max_width": null,
      "min_height": null,
      "min_width": null,
      "object_fit": null,
      "object_position": null,
      "order": null,
      "overflow": null,
      "overflow_x": null,
      "overflow_y": null,
      "padding": null,
      "right": null,
      "top": null,
      "visibility": null,
      "width": null
     }
    },
    "939dd96e6c3c4313bb5147e5d9719fb1": {
     "model_module": "@jupyter-widgets/controls",
     "model_name": "HBoxModel",
     "state": {
      "_dom_classes": [],
      "_model_module": "@jupyter-widgets/controls",
      "_model_module_version": "1.5.0",
      "_model_name": "HBoxModel",
      "_view_count": null,
      "_view_module": "@jupyter-widgets/controls",
      "_view_module_version": "1.5.0",
      "_view_name": "HBoxView",
      "box_style": "",
      "children": [
       "IPY_MODEL_c43644e1898e439e904f630d3cd04a2e",
       "IPY_MODEL_a900a21fea794d52a5e31302a0bb03f6"
      ],
      "layout": "IPY_MODEL_cb4eeb4795b64f069e7d687c676f3ac0"
     }
    },
    "95d42ca1e7b04a549a52df327d9910b7": {
     "model_module": "@jupyter-widgets/base",
     "model_name": "LayoutModel",
     "state": {
      "_model_module": "@jupyter-widgets/base",
      "_model_module_version": "1.2.0",
      "_model_name": "LayoutModel",
      "_view_count": null,
      "_view_module": "@jupyter-widgets/base",
      "_view_module_version": "1.2.0",
      "_view_name": "LayoutView",
      "align_content": null,
      "align_items": null,
      "align_self": null,
      "border": null,
      "bottom": null,
      "display": null,
      "flex": null,
      "flex_flow": null,
      "grid_area": null,
      "grid_auto_columns": null,
      "grid_auto_flow": null,
      "grid_auto_rows": null,
      "grid_column": null,
      "grid_gap": null,
      "grid_row": null,
      "grid_template_areas": null,
      "grid_template_columns": null,
      "grid_template_rows": null,
      "height": null,
      "justify_content": null,
      "justify_items": null,
      "left": null,
      "margin": null,
      "max_height": null,
      "max_width": null,
      "min_height": null,
      "min_width": null,
      "object_fit": null,
      "object_position": null,
      "order": null,
      "overflow": null,
      "overflow_x": null,
      "overflow_y": null,
      "padding": null,
      "right": null,
      "top": null,
      "visibility": null,
      "width": null
     }
    },
    "99084e91d3af4ae7826518ab7d230bb7": {
     "model_module": "@jupyter-widgets/controls",
     "model_name": "DescriptionStyleModel",
     "state": {
      "_model_module": "@jupyter-widgets/controls",
      "_model_module_version": "1.5.0",
      "_model_name": "DescriptionStyleModel",
      "_view_count": null,
      "_view_module": "@jupyter-widgets/base",
      "_view_module_version": "1.2.0",
      "_view_name": "StyleView",
      "description_width": ""
     }
    },
    "9cde36059c5a4cd4adafa0ca08708583": {
     "model_module": "@jupyter-widgets/base",
     "model_name": "LayoutModel",
     "state": {
      "_model_module": "@jupyter-widgets/base",
      "_model_module_version": "1.2.0",
      "_model_name": "LayoutModel",
      "_view_count": null,
      "_view_module": "@jupyter-widgets/base",
      "_view_module_version": "1.2.0",
      "_view_name": "LayoutView",
      "align_content": null,
      "align_items": null,
      "align_self": null,
      "border": null,
      "bottom": null,
      "display": null,
      "flex": null,
      "flex_flow": null,
      "grid_area": null,
      "grid_auto_columns": null,
      "grid_auto_flow": null,
      "grid_auto_rows": null,
      "grid_column": null,
      "grid_gap": null,
      "grid_row": null,
      "grid_template_areas": null,
      "grid_template_columns": null,
      "grid_template_rows": null,
      "height": null,
      "justify_content": null,
      "justify_items": null,
      "left": null,
      "margin": null,
      "max_height": null,
      "max_width": null,
      "min_height": null,
      "min_width": null,
      "object_fit": null,
      "object_position": null,
      "order": null,
      "overflow": null,
      "overflow_x": null,
      "overflow_y": null,
      "padding": null,
      "right": null,
      "top": null,
      "visibility": null,
      "width": null
     }
    },
    "9f641cf45b9943bc800a1c89a6cd91d2": {
     "model_module": "@jupyter-widgets/controls",
     "model_name": "ProgressStyleModel",
     "state": {
      "_model_module": "@jupyter-widgets/controls",
      "_model_module_version": "1.5.0",
      "_model_name": "ProgressStyleModel",
      "_view_count": null,
      "_view_module": "@jupyter-widgets/base",
      "_view_module_version": "1.2.0",
      "_view_name": "StyleView",
      "bar_color": null,
      "description_width": "initial"
     }
    },
    "a1500a144f704b639d1f1d4443d51813": {
     "model_module": "@jupyter-widgets/controls",
     "model_name": "FloatProgressModel",
     "state": {
      "_dom_classes": [],
      "_model_module": "@jupyter-widgets/controls",
      "_model_module_version": "1.5.0",
      "_model_name": "FloatProgressModel",
      "_view_count": null,
      "_view_module": "@jupyter-widgets/controls",
      "_view_module_version": "1.5.0",
      "_view_name": "ProgressView",
      "bar_style": "success",
      "description": "Dl Size...: ",
      "description_tooltip": null,
      "layout": "IPY_MODEL_ac66c860b5da45d08a9982560bac6620",
      "max": 1,
      "min": 0,
      "orientation": "horizontal",
      "style": "IPY_MODEL_1218bff7f0e54b909cf093bc0b9ee5d2",
      "value": 1
     }
    },
    "a307b24459564c7e9ee075c3a1ee3e17": {
     "model_module": "@jupyter-widgets/controls",
     "model_name": "DescriptionStyleModel",
     "state": {
      "_model_module": "@jupyter-widgets/controls",
      "_model_module_version": "1.5.0",
      "_model_name": "DescriptionStyleModel",
      "_view_count": null,
      "_view_module": "@jupyter-widgets/base",
      "_view_module_version": "1.2.0",
      "_view_name": "StyleView",
      "description_width": ""
     }
    },
    "a4c2dc3e4e5948648d00f980782b5d8b": {
     "model_module": "@jupyter-widgets/controls",
     "model_name": "ProgressStyleModel",
     "state": {
      "_model_module": "@jupyter-widgets/controls",
      "_model_module_version": "1.5.0",
      "_model_name": "ProgressStyleModel",
      "_view_count": null,
      "_view_module": "@jupyter-widgets/base",
      "_view_module_version": "1.2.0",
      "_view_name": "StyleView",
      "bar_color": null,
      "description_width": "initial"
     }
    },
    "a629cbd826bf4f63bc3c2983119b0326": {
     "model_module": "@jupyter-widgets/base",
     "model_name": "LayoutModel",
     "state": {
      "_model_module": "@jupyter-widgets/base",
      "_model_module_version": "1.2.0",
      "_model_name": "LayoutModel",
      "_view_count": null,
      "_view_module": "@jupyter-widgets/base",
      "_view_module_version": "1.2.0",
      "_view_name": "LayoutView",
      "align_content": null,
      "align_items": null,
      "align_self": null,
      "border": null,
      "bottom": null,
      "display": null,
      "flex": null,
      "flex_flow": null,
      "grid_area": null,
      "grid_auto_columns": null,
      "grid_auto_flow": null,
      "grid_auto_rows": null,
      "grid_column": null,
      "grid_gap": null,
      "grid_row": null,
      "grid_template_areas": null,
      "grid_template_columns": null,
      "grid_template_rows": null,
      "height": null,
      "justify_content": null,
      "justify_items": null,
      "left": null,
      "margin": null,
      "max_height": null,
      "max_width": null,
      "min_height": null,
      "min_width": null,
      "object_fit": null,
      "object_position": null,
      "order": null,
      "overflow": null,
      "overflow_x": null,
      "overflow_y": null,
      "padding": null,
      "right": null,
      "top": null,
      "visibility": null,
      "width": null
     }
    },
    "a900a21fea794d52a5e31302a0bb03f6": {
     "model_module": "@jupyter-widgets/controls",
     "model_name": "HTMLModel",
     "state": {
      "_dom_classes": [],
      "_model_module": "@jupyter-widgets/controls",
      "_model_module_version": "1.5.0",
      "_model_name": "HTMLModel",
      "_view_count": null,
      "_view_module": "@jupyter-widgets/controls",
      "_view_module_version": "1.5.0",
      "_view_name": "HTMLView",
      "description": "",
      "description_tooltip": null,
      "layout": "IPY_MODEL_dd4300dcc4b64c229bde2cff37b0600a",
      "placeholder": "​",
      "style": "IPY_MODEL_c9c29841bac64855a4e0e53f04b9cc99",
      "value": " 162770/0 [06:08&lt;00:00, 439.50 examples/s]"
     }
    },
    "ac66c860b5da45d08a9982560bac6620": {
     "model_module": "@jupyter-widgets/base",
     "model_name": "LayoutModel",
     "state": {
      "_model_module": "@jupyter-widgets/base",
      "_model_module_version": "1.2.0",
      "_model_name": "LayoutModel",
      "_view_count": null,
      "_view_module": "@jupyter-widgets/base",
      "_view_module_version": "1.2.0",
      "_view_name": "LayoutView",
      "align_content": null,
      "align_items": null,
      "align_self": null,
      "border": null,
      "bottom": null,
      "display": null,
      "flex": null,
      "flex_flow": null,
      "grid_area": null,
      "grid_auto_columns": null,
      "grid_auto_flow": null,
      "grid_auto_rows": null,
      "grid_column": null,
      "grid_gap": null,
      "grid_row": null,
      "grid_template_areas": null,
      "grid_template_columns": null,
      "grid_template_rows": null,
      "height": null,
      "justify_content": null,
      "justify_items": null,
      "left": null,
      "margin": null,
      "max_height": null,
      "max_width": null,
      "min_height": null,
      "min_width": null,
      "object_fit": null,
      "object_position": null,
      "order": null,
      "overflow": null,
      "overflow_x": null,
      "overflow_y": null,
      "padding": null,
      "right": null,
      "top": null,
      "visibility": null,
      "width": null
     }
    },
    "afe827efc4d740e49bad0a42d53ad8f1": {
     "model_module": "@jupyter-widgets/controls",
     "model_name": "HTMLModel",
     "state": {
      "_dom_classes": [],
      "_model_module": "@jupyter-widgets/controls",
      "_model_module_version": "1.5.0",
      "_model_name": "HTMLModel",
      "_view_count": null,
      "_view_module": "@jupyter-widgets/controls",
      "_view_module_version": "1.5.0",
      "_view_name": "HTMLView",
      "description": "",
      "description_tooltip": null,
      "layout": "IPY_MODEL_768936ddd23a4dc2bcdc61e1a7938641",
      "placeholder": "​",
      "style": "IPY_MODEL_57b820991e64409797663aa86ab5aeb7",
      "value": " 19962/0 [00:48&lt;00:00, 454.25 examples/s]"
     }
    },
    "b5447ab87be2420a9b686e6912e6321a": {
     "model_module": "@jupyter-widgets/controls",
     "model_name": "ProgressStyleModel",
     "state": {
      "_model_module": "@jupyter-widgets/controls",
      "_model_module_version": "1.5.0",
      "_model_name": "ProgressStyleModel",
      "_view_count": null,
      "_view_module": "@jupyter-widgets/base",
      "_view_module_version": "1.2.0",
      "_view_name": "StyleView",
      "bar_color": null,
      "description_width": "initial"
     }
    },
    "ba39678941e74fcbb6164440c6e9ff7d": {
     "model_module": "@jupyter-widgets/base",
     "model_name": "LayoutModel",
     "state": {
      "_model_module": "@jupyter-widgets/base",
      "_model_module_version": "1.2.0",
      "_model_name": "LayoutModel",
      "_view_count": null,
      "_view_module": "@jupyter-widgets/base",
      "_view_module_version": "1.2.0",
      "_view_name": "LayoutView",
      "align_content": null,
      "align_items": null,
      "align_self": null,
      "border": null,
      "bottom": null,
      "display": null,
      "flex": null,
      "flex_flow": null,
      "grid_area": null,
      "grid_auto_columns": null,
      "grid_auto_flow": null,
      "grid_auto_rows": null,
      "grid_column": null,
      "grid_gap": null,
      "grid_row": null,
      "grid_template_areas": null,
      "grid_template_columns": null,
      "grid_template_rows": null,
      "height": null,
      "justify_content": null,
      "justify_items": null,
      "left": null,
      "margin": null,
      "max_height": null,
      "max_width": null,
      "min_height": null,
      "min_width": null,
      "object_fit": null,
      "object_position": null,
      "order": null,
      "overflow": null,
      "overflow_x": null,
      "overflow_y": null,
      "padding": null,
      "right": null,
      "top": null,
      "visibility": null,
      "width": null
     }
    },
    "baaedfcab40345f0bb497b80459ed8ac": {
     "model_module": "@jupyter-widgets/controls",
     "model_name": "DescriptionStyleModel",
     "state": {
      "_model_module": "@jupyter-widgets/controls",
      "_model_module_version": "1.5.0",
      "_model_name": "DescriptionStyleModel",
      "_view_count": null,
      "_view_module": "@jupyter-widgets/base",
      "_view_module_version": "1.2.0",
      "_view_name": "StyleView",
      "description_width": ""
     }
    },
    "c074f77422984f288fcc14239e9003db": {
     "model_module": "@jupyter-widgets/controls",
     "model_name": "FloatProgressModel",
     "state": {
      "_dom_classes": [],
      "_model_module": "@jupyter-widgets/controls",
      "_model_module_version": "1.5.0",
      "_model_name": "FloatProgressModel",
      "_view_count": null,
      "_view_module": "@jupyter-widgets/controls",
      "_view_module_version": "1.5.0",
      "_view_name": "ProgressView",
      "bar_style": "info",
      "description": "",
      "description_tooltip": null,
      "layout": "IPY_MODEL_9cde36059c5a4cd4adafa0ca08708583",
      "max": 1,
      "min": 0,
      "orientation": "horizontal",
      "style": "IPY_MODEL_b5447ab87be2420a9b686e6912e6321a",
      "value": 1
     }
    },
    "c3d76a7bd67d43f6807985e87d68db1c": {
     "model_module": "@jupyter-widgets/controls",
     "model_name": "ProgressStyleModel",
     "state": {
      "_model_module": "@jupyter-widgets/controls",
      "_model_module_version": "1.5.0",
      "_model_name": "ProgressStyleModel",
      "_view_count": null,
      "_view_module": "@jupyter-widgets/base",
      "_view_module_version": "1.2.0",
      "_view_name": "StyleView",
      "bar_color": null,
      "description_width": "initial"
     }
    },
    "c43644e1898e439e904f630d3cd04a2e": {
     "model_module": "@jupyter-widgets/controls",
     "model_name": "FloatProgressModel",
     "state": {
      "_dom_classes": [],
      "_model_module": "@jupyter-widgets/controls",
      "_model_module_version": "1.5.0",
      "_model_name": "FloatProgressModel",
      "_view_count": null,
      "_view_module": "@jupyter-widgets/controls",
      "_view_module_version": "1.5.0",
      "_view_name": "ProgressView",
      "bar_style": "info",
      "description": "",
      "description_tooltip": null,
      "layout": "IPY_MODEL_4eb68727eb154db59c82fb645aa64fb5",
      "max": 1,
      "min": 0,
      "orientation": "horizontal",
      "style": "IPY_MODEL_a4c2dc3e4e5948648d00f980782b5d8b",
      "value": 1
     }
    },
    "c9c29841bac64855a4e0e53f04b9cc99": {
     "model_module": "@jupyter-widgets/controls",
     "model_name": "DescriptionStyleModel",
     "state": {
      "_model_module": "@jupyter-widgets/controls",
      "_model_module_version": "1.5.0",
      "_model_name": "DescriptionStyleModel",
      "_view_count": null,
      "_view_module": "@jupyter-widgets/base",
      "_view_module_version": "1.2.0",
      "_view_name": "StyleView",
      "description_width": ""
     }
    },
    "cb4eeb4795b64f069e7d687c676f3ac0": {
     "model_module": "@jupyter-widgets/base",
     "model_name": "LayoutModel",
     "state": {
      "_model_module": "@jupyter-widgets/base",
      "_model_module_version": "1.2.0",
      "_model_name": "LayoutModel",
      "_view_count": null,
      "_view_module": "@jupyter-widgets/base",
      "_view_module_version": "1.2.0",
      "_view_name": "LayoutView",
      "align_content": null,
      "align_items": null,
      "align_self": null,
      "border": null,
      "bottom": null,
      "display": null,
      "flex": null,
      "flex_flow": null,
      "grid_area": null,
      "grid_auto_columns": null,
      "grid_auto_flow": null,
      "grid_auto_rows": null,
      "grid_column": null,
      "grid_gap": null,
      "grid_row": null,
      "grid_template_areas": null,
      "grid_template_columns": null,
      "grid_template_rows": null,
      "height": null,
      "justify_content": null,
      "justify_items": null,
      "left": null,
      "margin": null,
      "max_height": null,
      "max_width": null,
      "min_height": null,
      "min_width": null,
      "object_fit": null,
      "object_position": null,
      "order": null,
      "overflow": null,
      "overflow_x": null,
      "overflow_y": null,
      "padding": null,
      "right": null,
      "top": null,
      "visibility": null,
      "width": null
     }
    },
    "d81d2e8a44344234828af9abbc7612cf": {
     "model_module": "@jupyter-widgets/base",
     "model_name": "LayoutModel",
     "state": {
      "_model_module": "@jupyter-widgets/base",
      "_model_module_version": "1.2.0",
      "_model_name": "LayoutModel",
      "_view_count": null,
      "_view_module": "@jupyter-widgets/base",
      "_view_module_version": "1.2.0",
      "_view_name": "LayoutView",
      "align_content": null,
      "align_items": null,
      "align_self": null,
      "border": null,
      "bottom": null,
      "display": null,
      "flex": null,
      "flex_flow": null,
      "grid_area": null,
      "grid_auto_columns": null,
      "grid_auto_flow": null,
      "grid_auto_rows": null,
      "grid_column": null,
      "grid_gap": null,
      "grid_row": null,
      "grid_template_areas": null,
      "grid_template_columns": null,
      "grid_template_rows": null,
      "height": null,
      "justify_content": null,
      "justify_items": null,
      "left": null,
      "margin": null,
      "max_height": null,
      "max_width": null,
      "min_height": null,
      "min_width": null,
      "object_fit": null,
      "object_position": null,
      "order": null,
      "overflow": null,
      "overflow_x": null,
      "overflow_y": null,
      "padding": null,
      "right": null,
      "top": null,
      "visibility": null,
      "width": null
     }
    },
    "db49972c9526477d86fb3d1e2a8544f1": {
     "model_module": "@jupyter-widgets/controls",
     "model_name": "HBoxModel",
     "state": {
      "_dom_classes": [],
      "_model_module": "@jupyter-widgets/controls",
      "_model_module_version": "1.5.0",
      "_model_name": "HBoxModel",
      "_view_count": null,
      "_view_module": "@jupyter-widgets/controls",
      "_view_module_version": "1.5.0",
      "_view_name": "HBoxView",
      "box_style": "",
      "children": [
       "IPY_MODEL_825e07ebb1da4359bf867390f9a6000f",
       "IPY_MODEL_afe827efc4d740e49bad0a42d53ad8f1"
      ],
      "layout": "IPY_MODEL_5e6018cb13bf45c9b78a29698065e5a4"
     }
    },
    "dd4300dcc4b64c229bde2cff37b0600a": {
     "model_module": "@jupyter-widgets/base",
     "model_name": "LayoutModel",
     "state": {
      "_model_module": "@jupyter-widgets/base",
      "_model_module_version": "1.2.0",
      "_model_name": "LayoutModel",
      "_view_count": null,
      "_view_module": "@jupyter-widgets/base",
      "_view_module_version": "1.2.0",
      "_view_name": "LayoutView",
      "align_content": null,
      "align_items": null,
      "align_self": null,
      "border": null,
      "bottom": null,
      "display": null,
      "flex": null,
      "flex_flow": null,
      "grid_area": null,
      "grid_auto_columns": null,
      "grid_auto_flow": null,
      "grid_auto_rows": null,
      "grid_column": null,
      "grid_gap": null,
      "grid_row": null,
      "grid_template_areas": null,
      "grid_template_columns": null,
      "grid_template_rows": null,
      "height": null,
      "justify_content": null,
      "justify_items": null,
      "left": null,
      "margin": null,
      "max_height": null,
      "max_width": null,
      "min_height": null,
      "min_width": null,
      "object_fit": null,
      "object_position": null,
      "order": null,
      "overflow": null,
      "overflow_x": null,
      "overflow_y": null,
      "padding": null,
      "right": null,
      "top": null,
      "visibility": null,
      "width": null
     }
    },
    "de96ffcbf9ce4bc5ab83b8f08827cfc3": {
     "model_module": "@jupyter-widgets/base",
     "model_name": "LayoutModel",
     "state": {
      "_model_module": "@jupyter-widgets/base",
      "_model_module_version": "1.2.0",
      "_model_name": "LayoutModel",
      "_view_count": null,
      "_view_module": "@jupyter-widgets/base",
      "_view_module_version": "1.2.0",
      "_view_name": "LayoutView",
      "align_content": null,
      "align_items": null,
      "align_self": null,
      "border": null,
      "bottom": null,
      "display": null,
      "flex": null,
      "flex_flow": null,
      "grid_area": null,
      "grid_auto_columns": null,
      "grid_auto_flow": null,
      "grid_auto_rows": null,
      "grid_column": null,
      "grid_gap": null,
      "grid_row": null,
      "grid_template_areas": null,
      "grid_template_columns": null,
      "grid_template_rows": null,
      "height": null,
      "justify_content": null,
      "justify_items": null,
      "left": null,
      "margin": null,
      "max_height": null,
      "max_width": null,
      "min_height": null,
      "min_width": null,
      "object_fit": null,
      "object_position": null,
      "order": null,
      "overflow": null,
      "overflow_x": null,
      "overflow_y": null,
      "padding": null,
      "right": null,
      "top": null,
      "visibility": null,
      "width": null
     }
    },
    "e6ba9787032840a3b79ed197695c26ee": {
     "model_module": "@jupyter-widgets/controls",
     "model_name": "HTMLModel",
     "state": {
      "_dom_classes": [],
      "_model_module": "@jupyter-widgets/controls",
      "_model_module_version": "1.5.0",
      "_model_name": "HTMLModel",
      "_view_count": null,
      "_view_module": "@jupyter-widgets/controls",
      "_view_module_version": "1.5.0",
      "_view_name": "HTMLView",
      "description": "",
      "description_tooltip": null,
      "layout": "IPY_MODEL_95d42ca1e7b04a549a52df327d9910b7",
      "placeholder": "​",
      "style": "IPY_MODEL_0d627bb08a5e47c8a03b3068e3b7bac2",
      "value": " 18079/19867 [00:00&lt;00:00, 49101.63 examples/s]"
     }
    },
    "e6c71a9be7804e0da80d9344b8f502f8": {
     "model_module": "@jupyter-widgets/controls",
     "model_name": "FloatProgressModel",
     "state": {
      "_dom_classes": [],
      "_model_module": "@jupyter-widgets/controls",
      "_model_module_version": "1.5.0",
      "_model_name": "FloatProgressModel",
      "_view_count": null,
      "_view_module": "@jupyter-widgets/controls",
      "_view_module_version": "1.5.0",
      "_view_name": "ProgressView",
      "bar_style": "success",
      "description": "Dl Completed...: 100%",
      "description_tooltip": null,
      "layout": "IPY_MODEL_0ff239611353450a97d10c898711e452",
      "max": 1,
      "min": 0,
      "orientation": "horizontal",
      "style": "IPY_MODEL_9f641cf45b9943bc800a1c89a6cd91d2",
      "value": 1
     }
    },
    "ebbd4516ebb1445ea78efaf86eccef78": {
     "model_module": "@jupyter-widgets/controls",
     "model_name": "HTMLModel",
     "state": {
      "_dom_classes": [],
      "_model_module": "@jupyter-widgets/controls",
      "_model_module_version": "1.5.0",
      "_model_name": "HTMLModel",
      "_view_count": null,
      "_view_module": "@jupyter-widgets/controls",
      "_view_module_version": "1.5.0",
      "_view_name": "HTMLView",
      "description": "",
      "description_tooltip": null,
      "layout": "IPY_MODEL_ba39678941e74fcbb6164440c6e9ff7d",
      "placeholder": "​",
      "style": "IPY_MODEL_2b684554fd7d428f8e15a0c85fa023fd",
      "value": " 161431/162770 [00:06&lt;00:00, 28549.29 examples/s]"
     }
    },
    "f00fd46e2b6349e6a743120e78856ba2": {
     "model_module": "@jupyter-widgets/base",
     "model_name": "LayoutModel",
     "state": {
      "_model_module": "@jupyter-widgets/base",
      "_model_module_version": "1.2.0",
      "_model_name": "LayoutModel",
      "_view_count": null,
      "_view_module": "@jupyter-widgets/base",
      "_view_module_version": "1.2.0",
      "_view_name": "LayoutView",
      "align_content": null,
      "align_items": null,
      "align_self": null,
      "border": null,
      "bottom": null,
      "display": null,
      "flex": null,
      "flex_flow": null,
      "grid_area": null,
      "grid_auto_columns": null,
      "grid_auto_flow": null,
      "grid_auto_rows": null,
      "grid_column": null,
      "grid_gap": null,
      "grid_row": null,
      "grid_template_areas": null,
      "grid_template_columns": null,
      "grid_template_rows": null,
      "height": null,
      "justify_content": null,
      "justify_items": null,
      "left": null,
      "margin": null,
      "max_height": null,
      "max_width": null,
      "min_height": null,
      "min_width": null,
      "object_fit": null,
      "object_position": null,
      "order": null,
      "overflow": null,
      "overflow_x": null,
      "overflow_y": null,
      "padding": null,
      "right": null,
      "top": null,
      "visibility": null,
      "width": null
     }
    }
   }
  }
 },
 "nbformat": 4,
 "nbformat_minor": 1
}
